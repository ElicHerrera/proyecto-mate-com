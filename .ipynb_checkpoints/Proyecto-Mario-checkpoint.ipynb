{
 "metadata": {
  "name": "",
  "signature": "sha256:97369600adbdeb716283d31912795875955b904d74f051645a73d42553a4bc8e"
 },
 "nbformat": 3,
 "nbformat_minor": 0,
 "worksheets": [
  {
   "cells": [
    {
     "cell_type": "code",
     "collapsed": false,
     "input": [],
     "language": "python",
     "metadata": {},
     "outputs": []
    }
   ],
   "metadata": {}
  }
 ]
}