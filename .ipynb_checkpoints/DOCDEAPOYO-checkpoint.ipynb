{
 "metadata": {
  "name": "",
  "signature": "sha256:6a6bf47bef4d1b33e0c6c8610ef103fae91c081c3930ee1ef22cd068d702ca89"
 },
 "nbformat": 3,
 "nbformat_minor": 0,
 "worksheets": []
}