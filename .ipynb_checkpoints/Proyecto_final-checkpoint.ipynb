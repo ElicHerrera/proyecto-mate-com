{
 "metadata": {
  "name": "",
  "signature": "sha256:b15ba07840b0d308dae1978349f0281850fe12725bf4b45fa3d2306ce0836cbd"
 },
 "nbformat": 3,
 "nbformat_minor": 0,
 "worksheets": [
  {
   "cells": [
    {
     "cell_type": "heading",
     "level": 1,
     "metadata": {},
     "source": [
      "PROYECTO \u00a1Guerra!"
     ]
    },
    {
     "cell_type": "markdown",
     "metadata": {},
     "source": [
      "Esteban Castillo\n",
      "\n",
      "Elic Herrera\n",
      "\n",
      "Mario Nava"
     ]
    },
    {
     "cell_type": "heading",
     "level": 2,
     "metadata": {},
     "source": [
      "Introducci\u00f3n"
     ]
    },
    {
     "cell_type": "markdown",
     "metadata": {},
     "source": [
      "**Objetivo**: modelar una batalla de manera muy simple. El modelo que vamos a considerar fu\u00e9 propuesto por [**Frederick Lanchester**](http://en.wikipedia.org/wiki/Lanchester%27s_laws) en 1916. "
     ]
    },
    {
     "cell_type": "markdown",
     "metadata": {},
     "source": [
      "Los **supuestos** a utilizar son:"
     ]
    },
    {
     "cell_type": "markdown",
     "metadata": {},
     "source": [
      "- Existen dos bandos: **azules** y **rojos**.\n",
      "- Los supuestos que deciden el resultado de la batalla son el n\u00famero de tropas y el entrenamiento/equipo.\n"
     ]
    },
    {
     "cell_type": "markdown",
     "metadata": {},
     "source": [
      "**Variables** de los par\u00e1metros:"
     ]
    },
    {
     "cell_type": "markdown",
     "metadata": {},
     "source": [
      "- Sea **$x$** el n\u00famero de tropas de los **rojos** y **$y$** el n\u00famero de tropas de los **azules**.\n",
      "- Sea **$a$** la potencia de fuego de los **rojos** y sea **$b$** la potencia de fuego de los **azules**.\n",
      "    - La _potencia de fuego_ est\u00e1 basada en el entrenamiento, equipo, etc."
     ]
    },
    {
     "cell_type": "heading",
     "level": 2,
     "metadata": {},
     "source": [
      "Modelo"
     ]
    },
    {
     "cell_type": "markdown",
     "metadata": {},
     "source": [
      "De acuerdo a **Lanchester**, el modelo puede plantearse como un sistema de dos ecuaciones en diferencia con dos condiciones iniciales que corresponden al n\u00famero de tropas con las que se inicia."
     ]
    },
    {
     "cell_type": "markdown",
     "metadata": {},
     "source": [
      "\n",
      "\n",
      "$$\n",
      "\\frac{dx}{dt} = -ay\n",
      "$$\n",
      "\n",
      "\n",
      "$$\n",
      "\\frac{dy}{dt} = -bx\n",
      "$$\n",
      "\n",
      " $x(0) = x_0$ y $y(0) = y_0$."
     ]
    },
    {
     "cell_type": "markdown",
     "metadata": {},
     "source": [
      "*Con el fin de resolver los ejercicios de este proyecto proyecto, se importaron las siguientes clases:* "
     ]
    },
    {
     "cell_type": "code",
     "collapsed": false,
     "input": [
      "%pylab inline\n",
      "import numpy as np\n",
      "import matplotlib.pyplot as plt\n",
      "import sympy as sy\n",
      "from __future__ import division\n",
      "from abc import ABCMeta, abstractmethod\n",
      "import random\n",
      "from IPython.display import HTML\n",
      "\n",
      "def display_animation(anim):\n",
      "    plt.close(anim._fig)\n",
      "    return HTML(anim_to_html(anim))\n",
      "from tempfile import NamedTemporaryFile\n",
      "\n",
      "VIDEO_TAG = \"\"\"<video controls>\n",
      " <source src=\"data:video/x-m4v;base64,{0}\" type=\"video/mp4\">\n",
      " Tu navegador no soporta este formato de v\u00eddeo.\n",
      "</video>\"\"\"\n",
      "\n",
      "def anim_to_html(anim):\n",
      "    if not hasattr(anim, '_encoded_video'):\n",
      "        with NamedTemporaryFile(suffix='.mp4') as f:\n",
      "            anim.save(f.name, writer='avconv', fps=20, extra_args=['-vcodec', 'libx264'])\n",
      "            video = open(f.name, \"rb\").read()\n",
      "        anim._encoded_video = video.encode(\"base64\")\n",
      "    \n",
      "    return VIDEO_TAG.format(anim._encoded_video)\n",
      "import matplotlib.animation as animation\n",
      "from matplotlib.animation import *"
     ],
     "language": "python",
     "metadata": {},
     "outputs": [
      {
       "output_type": "stream",
       "stream": "stdout",
       "text": [
        "Populating the interactive namespace from numpy and matplotlib\n"
       ]
      }
     ],
     "prompt_number": 1
    },
    {
     "cell_type": "heading",
     "level": 2,
     "metadata": {},
     "source": [
      "Preguntas a responder\n"
     ]
    },
    {
     "cell_type": "markdown",
     "metadata": {},
     "source": [
      "Este proyecto consta de varias secciones en las que se resuelven diversos casos particulares o adaptaciones del modelo propuesto por Lanchester y de una adaptaci\u00f3n con agentes."
     ]
    },
    {
     "cell_type": "heading",
     "level": 2,
     "metadata": {},
     "source": [
      "Metaclase"
     ]
    },
    {
     "cell_type": "markdown",
     "metadata": {},
     "source": [
      "Por fines pr\u00e1cticos del proyecto, se defini\u00f3 una metaclase Guerra que nos ayudar\u00e1 a resolver los problemas propuestos de manera general:"
     ]
    },
    {
     "cell_type": "code",
     "collapsed": false,
     "input": [
      "\"\"\"Definimos la clase guerra como una clase abstracta, ya que tan s\u00f3lo servir\u00e1 para que los diferentes tipos de guerra compartan \n",
      "ciertas caracter\u00edsticas\"\"\"\n",
      "class Guerra:\n",
      "    __metaclass__ = ABCMeta\n",
      "    def __init__(self,a,b):\n",
      "        pass\n",
      "   \n",
      "    def x(self):\n",
      "        return self.trajectory[:,0]   #Devuelve la trayectoria del ej\u00e9rcito rojo\n",
      "    \n",
      "    def y(self):\n",
      "        return self.trajectory[:,1]    #Devuelve la trayectoria del ej\u00e9rcito azul\n",
      "   \n",
      "    \n",
      "    def plot(self):\n",
      "        fig, ax = plt.subplots(2,1, figsize=(10,8), sharex = True)\n",
      "\n",
      "        ax[0].plot(self.tau, self.x(), label=\"Tropas Rojos\", color=\"red\")\n",
      "        ax[1].plot(self.tau, self.y(), label=\"Tropas Azules\", color=\"blue\")\n",
      "        ax[0].legend(loc='upper left')\n",
      "        ax[1].legend(loc='upper left')\n",
      "        \"\"\"Los subplots ser\u00e1 uno para la trayectoria de cada ej\u00e9rcito\"\"\"\n",
      "\n",
      "        ax[0].set_ylabel(\"Tropas Rojas\")\n",
      "        ax[0].set_xlabel(\"Tropas Azules\")\n",
      "\n",
      "        ax[1].set_ylabel(\"Azules\")\n",
      "        ax[1].set_xlabel(\"Tiempo\")\n",
      "\n",
      "    def plotjunto(self):\n",
      "        plt.figure(figsize=(18, 6), dpi=80)\n",
      "        plt.plot(self.tau,self.x(),color=\"blue\", linewidth=1.0, linestyle=\"-\",label=\"Tropas Azules\");\n",
      "        plt.plot(self.tau,self.y(),color=\"red\", linewidth=1.0, linestyle=\"-\",label=\"Tropas Rojas\");\n",
      "        plt.legend(loc='upper right')\n",
      "    def initial_conditions(self, x_i, y_i):\n",
      "        \"\"\"Se definen las condiciones iniciales que corresponden a la cantidad inicial de soldadosb.\"\"\"\n",
      "        self.x_i = x_i\n",
      "        self.y_i = y_i\n",
      "        \n",
      "    def integrate(self, num_steps, t_i, t_f, method):\n",
      "        \"\"\"Debemos de hacer ahora una matriz con dos columnas, ya que son dos variables.\"\"\"\n",
      "        self.tau, self.dt = np.linspace(t_i, t_f, num=num_steps, retstep=True)\n",
      "        self.trajectory = np.zeros([num_steps, 2])\n",
      "        self.trajectory[0,0] = self.x_i\n",
      "        self.trajectory[0,1] = self.y_i\n",
      "                \n",
      "        for j in range(N-1):\n",
      "            self.trajectory[j+1] = method(self.trajectory[j], self.tau[j], self.dt, self.dynamics)  \n",
      "    def escalon(self, num_steps, t_i, t_f, method):\n",
      "        \n",
      "        self.tau, self.dt = np.linspace(t_i, t_f, num=num_steps, retstep=True)\n",
      "        \n",
      "        self.trajectory = np.zeros([num_steps, 2])\n",
      "        \n",
      "        self.trajectory[0,0] = self.x_i\n",
      "        \n",
      "        self.trajectory[0,1] = self.y_i\n",
      "        \n",
      "\n",
      "        \n",
      "        for j in range(N-1):\n",
      "            \n",
      "            if j == int((N-1)/10):\n",
      "            \n",
      "                self.trajectory[j,1] = self.trajectory[j,1] + 54000\n",
      "            \n",
      "            self.trajectory[j+1] = method(self.trajectory[j], self.tau[j], self.dt, self.dynamics)  \n",
      "        \n",
      "        #for j in range(N-1):\n",
      "            \n",
      "            if j == int((N-1)/2):\n",
      "            \n",
      "                self.trajectory[j,1] = self.trajectory[j,1] + 6000\n",
      "\n",
      "            self.trajectory[j+1] = method(self.trajectory[j], self.tau[j], self.dt, self.dynamics)  \n",
      "         \n",
      "        #for j in range(N-1):\n",
      "            \n",
      "            if j == int((2/3)*(N-1)):\n",
      "                \n",
      "                self.trajectory[j,1] = self.trajectory[j,1] + 13000\n",
      "                \n",
      "            self.trajectory[j+1] = method(self.trajectory[j], self.tau[j], self.dt, self.dynamics)  \n",
      "            \n",
      "            #self.trajectory[j+1] = method(self.trajectory[j], self.tau[j], self.dt, self.dynamics)  \n",
      "                            \n"
     ],
     "language": "python",
     "metadata": {},
     "outputs": [],
     "prompt_number": 38
    },
    {
     "cell_type": "heading",
     "level": 2,
     "metadata": {},
     "source": [
      "M\u00e9todos de ecuaciones diferenciales"
     ]
    },
    {
     "cell_type": "markdown",
     "metadata": {},
     "source": [
      "Para resolver los problemas propuestos se necesita un m\u00e9todo de derivaci\u00f3n, durante el curso vimos dos que pueden utilizarse:"
     ]
    },
    {
     "cell_type": "markdown",
     "metadata": {},
     "source": [
      "Como vimos en clase, existen diversos m\u00e9todos para resolver sistemas de ecuaciones diferenciales. En este ejercicio se utilizar\u00e1 el m\u00e9todo de Runge Tutha dado que result\u00f3 ser efectivo."
     ]
    },
    {
     "cell_type": "heading",
     "level": 3,
     "metadata": {},
     "source": [
      "Runge Kutta:"
     ]
    },
    {
     "cell_type": "code",
     "collapsed": false,
     "input": [
      "def RK2(y, t, dt, derivadas):\n",
      "    k0 = dt*derivadas(y, t)\n",
      "    k1 = dt*derivadas(y + k0, t + dt)\n",
      "    y_next = y + 0.5*(k0 + k1)\n",
      "    \n",
      "    return y_next"
     ],
     "language": "python",
     "metadata": {},
     "outputs": [],
     "prompt_number": 5
    },
    {
     "cell_type": "heading",
     "level": 3,
     "metadata": {},
     "source": [
      "Euler:"
     ]
    },
    {
     "cell_type": "code",
     "collapsed": false,
     "input": [
      "def euler(y, t, dt, derivadas):\n",
      "    y_next = y + derivadas(y, t)*dt\n",
      "    return y_next"
     ],
     "language": "python",
     "metadata": {},
     "outputs": [],
     "prompt_number": 6
    },
    {
     "cell_type": "heading",
     "level": 3,
     "metadata": {},
     "source": [
      "Secci\u00f3n I: Formas Expl\u00edcitas"
     ]
    },
    {
     "cell_type": "markdown",
     "metadata": {},
     "source": [
      "**Inciso a):** Resolver el modelo de Lanchester de forma expl\u00edcita."
     ]
    },
    {
     "cell_type": "code",
     "collapsed": false,
     "input": [
      " %matplotlib inline\n",
      "import numpy as np\n",
      "import matplotlib.pyplot as plt\n"
     ],
     "language": "python",
     "metadata": {},
     "outputs": [],
     "prompt_number": 8
    },
    {
     "cell_type": "code",
     "collapsed": false,
     "input": [
      "from sympy import *"
     ],
     "language": "python",
     "metadata": {},
     "outputs": [],
     "prompt_number": 9
    },
    {
     "cell_type": "code",
     "collapsed": false,
     "input": [
      "init_printing(use_latex='mathjax')"
     ],
     "language": "python",
     "metadata": {},
     "outputs": [],
     "prompt_number": 10
    },
    {
     "cell_type": "code",
     "collapsed": false,
     "input": [
      "x = Symbol('x')\n",
      "y = Symbol('y')\n",
      "a = Symbol('a')\n",
      "b = Symbol('b')\n",
      "dx=Symbol('dx')\n",
      "dy=Symbol('dy')\n",
      "lamda=Symbol('l')"
     ],
     "language": "python",
     "metadata": {},
     "outputs": [],
     "prompt_number": 11
    },
    {
     "cell_type": "code",
     "collapsed": false,
     "input": [
      "A = Matrix([[0,-a],[-b,0]])\n",
      "X=Matrix([x,y])\n",
      "xgorro=Matrix([dx,dy])\n",
      "#ecuacion A*X=Xgorro   falta ponerla\n",
      "print xgorro \n",
      "print\"=\" \n",
      "print A*x"
     ],
     "language": "python",
     "metadata": {},
     "outputs": [
      {
       "output_type": "stream",
       "stream": "stdout",
       "text": [
        "Matrix([[dx], [dy]])\n",
        "=\n",
        "Matrix([[0, -a*x], [-b*x, 0]])\n"
       ]
      }
     ],
     "prompt_number": 12
    },
    {
     "cell_type": "markdown",
     "metadata": {},
     "source": [
      "Este tipo sistemas se resuelven calculando los valores propios de la matriz y los vectores asosciados a la misma. Obtener una soluci\u00f3n general que depende de as condiciones iniciales."
     ]
    },
    {
     "cell_type": "markdown",
     "metadata": {},
     "source": [
      "Esta din\u00e1mica queda expresada como un sistema de ecuaciones en diferencia de la siguiente forma:\n"
     ]
    },
    {
     "cell_type": "markdown",
     "metadata": {},
     "source": [
      "$$(x,y)= a*(lambda_1)^t*V_1+b*(lambda_2)^t*V_2$$\n",
      "\n",
      "donde $a$ y $b$ dependen de las condiciones iniciales $x_0$ y $y_0$"
     ]
    },
    {
     "cell_type": "markdown",
     "metadata": {},
     "source": [
      "Para obtener los vectores y valores propios existen diversas funciones de **Simpy**, a continuaci\u00f3n se usa una para obtener los valores propios."
     ]
    },
    {
     "cell_type": "code",
     "collapsed": false,
     "input": [
      "B=A.eigenvals()\n",
      "B"
     ],
     "language": "python",
     "metadata": {},
     "outputs": [
      {
       "latex": [
        "$$\\begin{Bmatrix}- \\sqrt{a b} : 1, & \\sqrt{a b} : 1\\end{Bmatrix}$$"
       ],
       "metadata": {},
       "output_type": "pyout",
       "prompt_number": 55,
       "text": [
        "\u23a7   _____       _____   \u23ab\n",
        "\u23a8-\u2572\u2571 a\u22c5b : 1, \u2572\u2571 a\u22c5b : 1\u23ac\n",
        "\u23a9                       \u23ad"
       ]
      }
     ],
     "prompt_number": 55
    },
    {
     "cell_type": "code",
     "collapsed": false,
     "input": [
      "solve(a*x=sqrt(a*b)*y"
     ],
     "language": "python",
     "metadata": {},
     "outputs": [
      {
       "ename": "SyntaxError",
       "evalue": "unexpected EOF while parsing (<ipython-input-13-57bbded539a0>, line 1)",
       "output_type": "pyerr",
       "traceback": [
        "\u001b[1;36m  File \u001b[1;32m\"<ipython-input-13-57bbded539a0>\"\u001b[1;36m, line \u001b[1;32m1\u001b[0m\n\u001b[1;33m    solve(a*x=sqrt(a*b)*y\u001b[0m\n\u001b[1;37m                         ^\u001b[0m\n\u001b[1;31mSyntaxError\u001b[0m\u001b[1;31m:\u001b[0m unexpected EOF while parsing\n"
       ]
      }
     ],
     "prompt_number": 13
    },
    {
     "cell_type": "markdown",
     "metadata": {},
     "source": [
      "$$x=y*sqrt(b/a)$$\n",
      "$$x=-y*sqrt(b/a)$$\n",
      "De donde se obtienen los vectores propios:\n",
      "\n",
      "$$V_1=(1,sqrt(b/a))$$\n",
      "$$V_2=(1,-sqrt(b/a))$$\n",
      "\n",
      "Que nos permite encontrar una ecuaci\u00f3n general que dependa de las condiciones iniciales."
     ]
    },
    {
     "cell_type": "markdown",
     "metadata": {},
     "source": [
      " "
     ]
    },
    {
     "cell_type": "markdown",
     "metadata": {},
     "source": [
      " "
     ]
    },
    {
     "cell_type": "heading",
     "level": 4,
     "metadata": {},
     "source": [
      "Inciso b): Deducir e interpretar la **Ley de cuadrados de Lanchester**. \n",
      "\n",
      "\n",
      "$$\n",
      "x^2 - \\frac{b}{a}y^2 = K,\n",
      "$$\n",
      "para varios valores de $K$. "
     ]
    },
    {
     "cell_type": "markdown",
     "metadata": {},
     "source": [
      "Dadas las dos ecuaciones del sistema, si se divide la primera entre la segunda se obtiene la siguiente relaci\u00f3n:\n",
      "\n",
      "\n",
      "$$\n",
      "(\\frac{dx}{dt})/(\\frac{dy}{dt}) = \\frac{-ay}{-bx}\n",
      "$$\n",
      "que es equivalente a\n",
      "\n",
      "$$\n",
      "\\frac{dx}{dy} = \\frac{ay}{bx}\n",
      "$$\n",
      "S\u00ed y s\u00f3lo si\n",
      "$$\n",
      "bxdx=aydy\n",
      "$$"
     ]
    },
    {
     "cell_type": "markdown",
     "metadata": {},
     "source": [
      "Si se integra cada lado se obtiene:"
     ]
    },
    {
     "cell_type": "code",
     "collapsed": false,
     "input": [
      "integrate(b*x,x)"
     ],
     "language": "python",
     "metadata": {},
     "outputs": [
      {
       "latex": [
        "$$\\frac{b x^{2}}{2}$$"
       ],
       "metadata": {},
       "output_type": "pyout",
       "prompt_number": 57,
       "text": [
        "   2\n",
        "b\u22c5x \n",
        "\u2500\u2500\u2500\u2500\n",
        " 2  "
       ]
      }
     ],
     "prompt_number": 57
    },
    {
     "cell_type": "code",
     "collapsed": false,
     "input": [
      "integrate(a*y,y)"
     ],
     "language": "python",
     "metadata": {},
     "outputs": [
      {
       "latex": [
        "$$\\frac{a y^{2}}{2}$$"
       ],
       "metadata": {},
       "output_type": "pyout",
       "prompt_number": 58,
       "text": [
        "   2\n",
        "a\u22c5y \n",
        "\u2500\u2500\u2500\u2500\n",
        " 2  "
       ]
      }
     ],
     "prompt_number": 58
    },
    {
     "cell_type": "markdown",
     "metadata": {},
     "source": [
      "$$bx^2+ k_1=ay^2+k_2$$\n",
      "De donde se deduce la ley de cuadrados de lancaster:\n",
      "$$x^2 - \\frac{b}{a}y^2 = K$$\n",
      "\n",
      "Cuyo resultado nos dice que el efecto de las tropas tiene m\u00e1s peso que la relaci\u00f3n de armamento y preparaci\u00f3n.\n"
     ]
    },
    {
     "cell_type": "markdown",
     "metadata": {},
     "source": [
      " - Se vuelve cuadrada porque cualquier unidad de $x$ y de $y$  puede atacar o ser atacado de cualquier parte del campo.\n",
      " - 'K' representa el resultado al final de la batalla: \n",
      "     - Si K > 0, entonces **x** gan\u00f3. \n",
      "     - Si K < 0, entonces **y** gan\u00f3."
     ]
    },
    {
     "cell_type": "heading",
     "level": 3,
     "metadata": {},
     "source": [
      "Secci\u00f3n II: M\u00e9todos no lineales"
     ]
    },
    {
     "cell_type": "markdown",
     "metadata": {},
     "source": [
      " "
     ]
    },
    {
     "cell_type": "heading",
     "level": 4,
     "metadata": {},
     "source": [
      "**Inciso c)** Guerra de Guerrillas"
     ]
    },
    {
     "cell_type": "markdown",
     "metadata": {},
     "source": [
      "El modelo de Lanchester tambi\u00e9n se puede utilizar para modelar una guerra de guerrillas (GUERCOM)si se consideran los siguientes **supuestos**:\n",
      "\n",
      "- El territorio es grande y hay muchos lugares d\u00f3nde esconderse. \n",
      "- Las fuerzas **azules** deben de encontrar a las fuerzas **rojas** primero antes de inflingir da\u00f1os.\n",
      "- Entre m\u00e1s **rojos** hay, es m\u00e1s f\u00e1cil encontrarlos. \n",
      "\n",
      "Lo cu\u00e1l puede representarse en el siguiente sistema:\n",
      "\n",
      "\n",
      "$$\n",
      "\\frac{dx}{dt} = -axy\n",
      "$$\n",
      "\n",
      "$$\n",
      "\\frac{dy}{dt} = -bxy\n",
      "$$\n",
      "\n",
      "*Entre mayor sea el n\u00famero de tropas de un ej\u00e9rcito, m\u00e1s f\u00e1cil ser\u00e1 encontrar al enemigo pero tambi\u00e9n es m\u00e1s f\u00e1cil que el enemigo los encuentre. Adem\u00e1s de la cantidad de tropas del\n",
      "enemigo y la potencia de fuego propia*."
     ]
    },
    {
     "cell_type": "markdown",
     "metadata": {},
     "source": [
      "Explique estas ecuaciones e indique los posibles casos. \u00bfQu\u00e9 pasa si $x_0 = 3y_0$?\u00bfQu\u00e9 tan efectivo deben de ser los **azules** para lograr un empate?"
     ]
    },
    {
     "cell_type": "markdown",
     "metadata": {},
     "source": [
      "Dado que este modelo, junto con los que siguen en esta secci\u00f3n son no lineales, el m\u00e9todo utilizado en la secci\u00f3n anterior ya no es v\u00e1lido. Por ello se propuso la creaci\u00f3n de una clase basada en la soluci\u00f3n de sistemas de ecuaciones diferenciales visto en clase. Esta clase se utilizar\u00e1 en los dem\u00e1s incisos de esta secci\u00f3n dado que los sistemas son similares y s\u00f3lo hay cambios las ecuaciones de los sistemas."
     ]
    },
    {
     "cell_type": "markdown",
     "metadata": {},
     "source": [
      "A partir de esto se defini\u00f3 la clase GUERCOM que hereda m\u00e9todos de la Metaclase:"
     ]
    },
    {
     "cell_type": "code",
     "collapsed": false,
     "input": [
      "class GuerCom (Guerra):\n",
      "    def __init__(self,a,b):\n",
      "        Guerra.__init__(self,a,b)\n",
      "        self.a=a\n",
      "        self.b=b\n",
      "        \n",
      "    def dynamics(self, state, t):\n",
      "        \"\"\"La din\u00e1mica es dada por el problema.\"\"\"\n",
      "        g0 = -self.a*state[0]*state[1]\n",
      "        g1 = -self.b*state[0]*state[1]\n",
      "        \n",
      "        \n",
      "        return np.array([g0,g1])"
     ],
     "language": "python",
     "metadata": {},
     "outputs": [],
     "prompt_number": 14
    },
    {
     "cell_type": "markdown",
     "metadata": {},
     "source": [
      "Desp\u00faes se realiz\u00f3 una selecci\u00f3n de **par\u00e1metros** para analizar el comportamiento de una batalla de *GUERCOM*."
     ]
    },
    {
     "cell_type": "code",
     "collapsed": false,
     "input": [
      "from IPython.html.widgets import interact, interactive, fixed\n",
      "from IPython.html import widgets"
     ],
     "language": "python",
     "metadata": {},
     "outputs": [],
     "prompt_number": 15
    },
    {
     "cell_type": "code",
     "collapsed": false,
     "input": [
      "N = 1000\n",
      "\n",
      "tiempo_inicial = 0.0\n",
      "\n",
      "tiempo_final = 20\n",
      "\n",
      "\n",
      "def GC(efectividad_rojos,efectividad_azules):\n",
      "    \n",
      "    soldados=100\n",
      "    \n",
      "    guerra1=GuerCom(efectividad_rojos,efectividad_azules)\n",
      "\n",
      "    guerra1.initial_conditions(x_i=3*soldados, y_i=soldados)\n",
      "\n",
      "    guerra1.integrate(N, tiempo_inicial, tiempo_final, RK2)\n",
      "\n",
      "    guerra1.plotjunto()\n",
      "    \n",
      " \n",
      "interact(GC,efectividad_rojos=(0.00001,0.004,.000009),efectividad_azules=(0.00001,0.0009,.000009))"
     ],
     "language": "python",
     "metadata": {},
     "outputs": [
      {
       "metadata": {},
       "output_type": "pyout",
       "prompt_number": 16,
       "text": [
        "<function __main__.GC>"
       ]
      },
      {
       "metadata": {},
       "output_type": "display_data",
       "png": "[encoded data removed]",
       "text": [
        "<matplotlib.figure.Figure at 0x7facd8d46f50>"
       ]
      }
     ],
     "prompt_number": 16
    },
    {
     "cell_type": "heading",
     "level": 4,
     "metadata": {},
     "source": [
      "**Inciso d)** Vietcong:"
     ]
    },
    {
     "cell_type": "markdown",
     "metadata": {},
     "source": [
      "Ahora utilizaremos el modelo de Lanchester para ver c\u00f3mo resultar\u00eda una batalla entre Guerrilla contra Ej\u00e9rcito\n",
      "   "
     ]
    },
    {
     "cell_type": "markdown",
     "metadata": {},
     "source": [
      "La guerra de *Vietnam* consisti\u00f3 en el enfrentamiento de una Guerrilla (*Vietcong*) contra un Ej\u00e9rcito (*EU*). \n",
      "\n",
      "Tal modelo se puede plantear como la uni\u00f3n de los \u00faltimos modelos y puede plantearse as\u00ed:\n",
      "\n",
      "$$\n",
      "\\frac{dx}{dt} = -axy\n",
      "$$\n",
      "\n",
      "$$\n",
      "\\frac{dy}{dt} = -bx,\n",
      "$$\n",
      "\n",
      "\n"
     ]
    },
    {
     "cell_type": "markdown",
     "metadata": {},
     "source": [
      "- $a$ es proporcional a la raz\u00f3n entre el \u00e1rea de un guerrillero $A_g \\sim 2$ sq. ft. y el \u00e1rea ocupada por la guerrilla $A_x$\n",
      "\n",
      "$$\n",
      "a = c_1\\frac{A_g}{A_x},\n",
      "$$\n",
      "\n",
      "- De acuerdo a diversas fuentes, guerrillero cubre aproximadamente $1,000$ sq.ft. y si est\u00e1n dispersados $A_x = (1,000)sq.ft. \\times x_0$.\n",
      "\n",
      "- $b$ representa la efectividad de la guerrilla contra una fuerza convencional, y depende de la probabilidad de que un disparo de un guerrillero mate a un soldado. \n",
      "\n",
      "$$\n",
      "- b = c_2p_x\n",
      "$$\n",
      "\n",
      "- $c_1$ y $c_2$ son las tasas de disparo (depende de la tecnolog\u00eda del armamento) y se suponen aproximadas $c_1 \\sim c_2$.\n",
      "\n",
      "\n",
      "\u00bfCu\u00e1les son las condiciones de empate? \n",
      "\u00bfCu\u00e1ntos soldados convencionales debe de tener el ej\u00e9rcito convencional para derrotar a la guerrilla? \n",
      "\n",
      "\n",
      "En Vietnam, las tropas de EUA nunca fueron mayores a las del Vietcong por m\u00e1s de 6 a 1. \u00bfPudo haber ganado EUA?\n",
      "\n",
      "\n",
      "\n",
      "Donde sucede lo siguiente:\n",
      "\n",
      "Si decimos que **x** es el ej\u00e9rcito de **EU** y **y** es el ej\u00e9rcito del **Vietcong**, entonces, entre m\u00e1s tropas de *EU* haya, m\u00e1s f\u00e1cil ser\u00e1 detectar tropas de *Vietcong* pero a su vez son un blanco m\u00e1s f\u00e1cil para la guerrilla.\n",
      "\n"
     ]
    },
    {
     "cell_type": "markdown",
     "metadata": {},
     "source": [
      "Definimos nuestra clase **Vietnam** para modelar la batalla Vietcong *VS.* Estados Unidos"
     ]
    },
    {
     "cell_type": "code",
     "collapsed": false,
     "input": [
      "class Vietnam (Guerra):\n",
      "    def __init__(self,a,b):\n",
      "        Guerra.__init__(self,a,b)\n",
      "        self.a=a\n",
      "        self.b=b\n",
      "      \n",
      "    def dynamics(self, state, t):\n",
      "        \"\"\"La din\u00e1mica es dada por el problema.\"\"\"\n",
      "        g0 = -self.a*state[0]\n",
      "        g1 = -self.b*state[0]*state[1]\n",
      "        \n",
      "        \n",
      "        return np.array([g0,g1])\n"
     ],
     "language": "python",
     "metadata": {},
     "outputs": [],
     "prompt_number": 62
    },
    {
     "cell_type": "markdown",
     "metadata": {},
     "source": [
      " "
     ]
    },
    {
     "cell_type": "markdown",
     "metadata": {},
     "source": [
      " "
     ]
    },
    {
     "cell_type": "code",
     "collapsed": false,
     "input": [
      "N = 1000\n",
      "\n",
      "tiempo_inicial = 0.0\n",
      "\n",
      "tiempo_final = 30\n",
      "\n",
      "ejercito=100\n",
      "\n",
      "def GV(tasa_disparo_EU, tasa_disparo_Vietcong, probabilidad_matar_soldado):\n",
      "    \n",
      "    guerra2=Vietnam(tasa_disparo_Vietcong*probabilidad_matar_soldado,tasa_disparo_EU*(2/(1000*ejercito)))\n",
      "\n",
      "    guerra2.initial_conditions(x_i=ejercito, y_i=ejercito*2)\n",
      "\n",
      "    guerra2.integrate(N, tiempo_inicial, tiempo_final, RK2)\n",
      "\n",
      "    guerra2.plotjunto()\n",
      "    \n",
      "interact(GV, tasa_disparo_EU = (0.001,1,.01) ,tasa_disparo_Vietcong = (0.001,1,.01), probabilidad_matar_soldado = (0.001,1,.001))"
     ],
     "language": "python",
     "metadata": {},
     "outputs": [
      {
       "metadata": {},
       "output_type": "pyout",
       "prompt_number": 63,
       "text": [
        "<function __main__.GV>"
       ]
      },
      {
       "metadata": {},
       "output_type": "display_data",
       "png": "[encoded data removed]",
       "text": [
        "<matplotlib.figure.Figure at 0x7f6d16ee2110>"
       ]
      }
     ],
     "prompt_number": 63
    },
    {
     "cell_type": "markdown",
     "metadata": {},
     "source": [
      "**Inciso e)** Combate convencional:"
     ]
    },
    {
     "cell_type": "markdown",
     "metadata": {},
     "source": [
      "- Es posible modificar las ecuaciones para modelar combate convencional (_CONCON_):\n",
      "$$\n",
      "\\frac{dx}{dt} = -cx-ay+P(t)\n",
      "$$\n",
      "$$\n",
      "\\frac{dy}{dt} = -bx-dy+Q(t)\n",
      "$$\n",
      "donde ${d,c}$ son la tasa de p\u00e9rdidas operacionales (enfermedades, deserciones, etc.) -proporcional al n\u00famero de las tropas, y ${a,b}$ es la tasa de p\u00e9rdidas en combate. ${P,Q}$ es la tasa de refuerzos. \n",
      "La batalla de Iwo Jima, en la segunda guerra mundial, fu\u00e9 modelada por Engel en 1954, aplicando estas ecuaciones y di\u00f3 una _comprobaci\u00f3n emp\u00edrica_ de las ecuaciones de Lanchester, aunque en este caso, s\u00f3lo el ej\u00e9rcito de EUA tuvo refuerzos:\n",
      "$$\n",
      "\\frac{dx}{dt} = -ay\n",
      "$$\n",
      "$$\n",
      "\\frac{dy}{dt} = -bx+Q(t)\n",
      "$$\n",
      "Resuelva las ecuaciones con $x_0 = 21,500$, $y_0=0$ y \n",
      "$$Q(t) = 54,000 \\mathcal{U}_{[0,1]} + 6,000 \\mathcal{U}_{[2_3]} + 13,000 \\mathcal{U}_{[5,6]},$$\n",
      "donde $\\mathcal{U}$ es la funci\u00f3n escal\u00f3n. "
     ]
    },
    {
     "cell_type": "markdown",
     "metadata": {},
     "source": [
      "- Encuentre los valores de $a$ y $b$ para ajustar los datos emp\u00edricos mostrados en la figura siguiente:"
     ]
    },
    {
     "cell_type": "markdown",
     "metadata": {},
     "source": [
      "- Si no hubiera habido refuerzos \u00bfCu\u00e1l hubiera sido el resultado de la batalla?\n",
      "\n",
      "- \u00bfPuede sugerir (buscando alguna referencia de tropas cercanas japonesas) c\u00f3mo intervenir para ganar esta batalla?"
     ]
    },
    {
     "cell_type": "code",
     "collapsed": false,
     "input": [
      "class Japon (Guerra):\n",
      "    def __init__(self,a,b):\n",
      "        Guerra.__init__(self,a,b)\n",
      "        self.a=a\n",
      "        self.b=b\n",
      "      \n",
      "    def dynamics(self, state, t):\n",
      "        \"\"\"La din\u00e1mica es dada por el problema.\"\"\"\n",
      "        g0 = -self.a*state[0]\n",
      "        g1 = -self.b*state[1]\n",
      "        \n",
      "        \n",
      "        return np.array([g0,g1])"
     ],
     "language": "python",
     "metadata": {},
     "outputs": [],
     "prompt_number": 21
    },
    {
     "cell_type": "code",
     "collapsed": false,
     "input": [
      "N = 10000\n",
      "\n",
      "tiempo_inicial = 0.0\n",
      "\n",
      "tiempo_final = 500.0\n",
      "\n",
      "soldados = 21500\n",
      "\n",
      "def GJ(efectividad_Japon, efectividad_EU):\n",
      "\n",
      "    guerra3 = Japon(efectividad_Japon, efectividad_EU)\n",
      "\n",
      "    guerra3.initial_conditions(x_i=soldados, y_i = 0)\n",
      "\n",
      "    guerra3.escalon(N, tiempo_inicial, tiempo_final, RK2)\n",
      "\n",
      "    guerra3.plotjunto()\n",
      "    \n",
      "interact(GJ, efectividad_EU = (0.00001,0.004,.000009), efectividad_Japon = (0.00001,0.0009,.000009))"
     ],
     "language": "python",
     "metadata": {},
     "outputs": [
      {
       "metadata": {},
       "output_type": "pyout",
       "prompt_number": 22,
       "text": [
        "<function __main__.GJ>"
       ]
      },
      {
       "metadata": {},
       "output_type": "display_data",
       "png": "[encoded data removed]",
       "text": [
        "<matplotlib.figure.Figure at 0x7facd8d46810>"
       ]
      }
     ],
     "prompt_number": 22
    },
    {
     "cell_type": "markdown",
     "metadata": {},
     "source": [
      "**inciso f)** Combate cuerpo a cuerpo:"
     ]
    },
    {
     "cell_type": "markdown",
     "metadata": {},
     "source": [
      "- **This is Sparta!** Es posible simular la batalla del Term\u00f3pilas: Suponga que s\u00f3lo $C$ unidades de cada lado caben en el estrecho (o paso) de Term\u00f3pilas, entonces las ecuaciones se convierten en \n",
      "$$\n",
      "\\frac{dx}{dt} = -a \\min(y,C)\n",
      "$$\n",
      "$$\n",
      "\\frac{dy}{dt} = -b \\min(x,C)\n",
      "$$\n",
      "Separe en cuatro casos el espacio $x-y$ y dibuje las regiones de manera anal\u00edtica. \u00bfObtiene el mismo resultado num\u00e9rico? Utilice los datos \"hist\u00f3ricos\" \u00bfEl resultado es parecido a la vida real?"
     ]
    },
    {
     "cell_type": "code",
     "collapsed": false,
     "input": [
      "class Sparta (Guerra):\n",
      "    def __init__(self,a,b,C=10):\n",
      "        Guerra.__init__(self,a,b)\n",
      "        self.a=a\n",
      "        self.b=b\n",
      "        self.C=C\n",
      "    def dynamics(self, state, t):\n",
      "        \"\"\"La din\u00e1mica es dada por el problema.\"\"\"\n",
      "        if state[0]>C:\n",
      "            g0 = -self.a*C\n",
      "        else:\n",
      "            g0 = -self.a*state[0]\n",
      "        if state[1]>C:\n",
      "            g1 = -self.b*C\n",
      "        else: \n",
      "            g1=-self.b*state[1]\n",
      "        \n",
      "        \n",
      "        return np.array([g0,g1])"
     ],
     "language": "python",
     "metadata": {},
     "outputs": [],
     "prompt_number": 28
    },
    {
     "cell_type": "code",
     "collapsed": false,
     "input": [
      "N = 300\n",
      "\n",
      "tiempo_inicial = 0.0\n",
      "\n",
      "tiempo_final = 20\n",
      "\n",
      "\n",
      "def ES(efectividad_rojos,efectividad_azules):\n",
      "    \n",
      "    \n",
      "    soldados=300\n",
      "    guerra1=Sparta(efectividad_rojos,efectividad_azules)\n",
      "\n",
      "    guerra1.initial_conditions(x_i=30*soldados, y_i=soldados)\n",
      "\n",
      "    guerra1.integrate(N, tiempo_inicial, tiempo_final, RK2)\n",
      "\n",
      "    guerra1.plotjunto()\n",
      "    \n",
      " \n",
      "interact(ES,efectividad_rojos=(0.00001,0.2,.000009),efectividad_azules=(0.00001,0.0009,.000009))"
     ],
     "language": "python",
     "metadata": {},
     "outputs": [
      {
       "metadata": {},
       "output_type": "display_data",
       "png": "[encoded data removed]",
       "text": [
        "<matplotlib.figure.Figure at 0x7facd8916b10>"
       ]
      }
     ],
     "prompt_number": 37
    },
    {
     "cell_type": "heading",
     "level": 3,
     "metadata": {},
     "source": [
      "Seccion III: Modelo con Agentes"
     ]
    },
    {
     "cell_type": "markdown",
     "metadata": {},
     "source": [
      "- **Agentes** Use la clase agente para modelar el \u00faltimo escenario, suponga \u00fanicamente combate cuerpo a cuerpo, asigne una probabilidad de herir, morir y matar para los agentes que est\u00e9n uno enfrente de otro. Agregue un valor de `cohesi\u00f3n` / `miedo`. Si pasa de un l\u00edmite el miedo huye el agente. Agregue un atributo de `moral`. \u00bfLos resultados coinciden con el modelo de Lanchester?"
     ]
    },
    {
     "cell_type": "markdown",
     "metadata": {},
     "source": [
      "Para modelar el combate cuerpo a cuerpo, por simplicidad se considera y supone lo siguiente:\n",
      "- Cada tipo de soldado tiene tres posibles estados:\n",
      "    - Sano\n",
      "    - Herido\n",
      "    - Muerto\n",
      "- Al inicio de la batalla todos los soldados est\u00e1n sanos.\n",
      "    \n",
      "- Existe una distribuci\u00f3n de probabilidad que determina a nivel poblacional la probabilidad de que en cada periodo de combate haya tres posibles resultados:\n",
      "    \n",
      "    \n",
      "    1) El espartano gana: En este caso el espartano mata al persa sin salir herido. Por ello el estado del soldado persa pasa a muerto sin importar si estaba herido o sano. \n",
      "    2) El espartano empata: Ambos soldados se infligen da\u00f1o, por lo que el estado de cada uno pasa de sano a herido si estaban sanos o de sanos a muertos si estaban heridos.\n",
      "    3) El espartano pierde: En este caso el persa hiere al espartano, por lo que el estado del persa no cambia y el del espartano pasa de sano a herido o de herido a muerto.\n",
      "\n",
      "- La probabilidad del caso 1 queda dada por **p**, la del caso 2 por **q** y la del caso 3 por **z**\n",
      "\n",
      "- Estas probabilidades dependen de los siguientes par\u00e1metros ex\u00f3genos y end\u00f3genos:\n",
      "    - Preparaci\u00f3n de cada soldado que interact\u00faa.\n",
      "    - Relaci\u00f3n de bajas (Cantidad de tropas espartanas muertas entre la cantidad de tropas persas muertas).\n",
      "    - El estado en el que se encuentra cada uno de los soldados que interact\u00faan.\n",
      "    - La moral de cada soldado queda determinada de manera end\u00f3gena por los par\u00e1metros anteriores.\n",
      "\n",
      "    "
     ]
    },
    {
     "cell_type": "markdown",
     "metadata": {},
     "source": [
      "**Variables ex\u00f3genas:**"
     ]
    },
    {
     "cell_type": "markdown",
     "metadata": {},
     "source": [
      "Cada soldado tiene:\n",
      "- Tipo:\n",
      "        a)Espartano (1)\n",
      "        b)Persa (2)\n",
      "        c)Inmortal (3)\n",
      "- Mundo: Sirve para que los agentes puedan modificar el mundo.\n",
      "- Estado:\n",
      "        a)Vivo\n",
      "        b)H\u00e9rido\n",
      "        c)Muerto\n",
      "- Posicion. Almacenan su posici\u00f3n en la matriz:\n",
      "        a) 1 si es espartano\n",
      "        b) 2 si es persa o inmortal\n",
      "       \n",
      "- Preparaci\u00f3n: Una funci\u00f3n que al azar les asigna una preparaci\u00f3n a cada soldado.\n",
      "     Por default:\n",
      "        a) Para espartanos va de .85 a 1\n",
      "        b) Para persas va de .2 a .4\n",
      "        c) Para inmortales va de .6 a .7\n",
      "        \n",
      "        "
     ]
    },
    {
     "cell_type": "heading",
     "level": 4,
     "metadata": {},
     "source": [
      "Actualizar Moral"
     ]
    },
    {
     "cell_type": "markdown",
     "metadata": {},
     "source": [
      "En cada turno, cada soldado llama al m\u00e9todo de actualizar_moral, ya que \u00e9sta determinar\u00e1 sus acciones siguientes.\n",
      "\n",
      "- Si es espartano su moral siempre ser\u00e1 su preparaci\u00f3n.\n",
      "\n",
      "- Si es persa sera equivalente a su preparaci\u00f3n por la relaci\u00f3n de bajas entre las tropas\n",
      "  \n",
      "- Adem\u00e1s, si su moral ha llegado demasiado baja, se decide al azar si el soldado decide huir. Una vez que empieze a huir, el soldado se dirigir\u00e1 de regreso a su lado sin parar. No hay forma de salir de la hu\u00edda.\n"
     ]
    },
    {
     "cell_type": "heading",
     "level": 4,
     "metadata": {},
     "source": [
      "Actuar"
     ]
    },
    {
     "cell_type": "markdown",
     "metadata": {},
     "source": [
      "El soldado, una vez que tiene su moral, revisa si enfrente de \u00e9l hay un enemigo.\n",
      "- Si hay un enemigo inicia una pelea con \u00e9l.\n",
      "- De no haberlo se mueve en direcci\u00f3n hacia la pelea:\n",
      "        a) Hacia delante si hay una posici\u00f3n vac\u00eda.\n",
      "        b) Hacia el lado m\u00e1s cercano a la batalla si hay una posici\u00f3n vac\u00eda.\n",
      "        c) Siempre de un lugar por turno."
     ]
    },
    {
     "cell_type": "heading",
     "level": 4,
     "metadata": {},
     "source": [
      "Combate"
     ]
    },
    {
     "cell_type": "markdown",
     "metadata": {},
     "source": [
      "\n",
      "Para modelar el combate cuerpo a cuerpo, por simplicidad se considera y supone lo siguiente:\n",
      "- Cada tipo de soldado tiene tres posibles estados:\n",
      "    - Sano\n",
      "    - Herido\n",
      "    - Muerto\n",
      "- Al inicio de la batalla todos los soldados est\u00e1n sanos.\n",
      "    \n",
      "- Existe una distribuci\u00f3n de probabilidad que determina a nivel poblacional la probabilidad de que en cada periodo de combate haya tres posibles resultados:\n",
      "    \n",
      "    \n",
      "    1) El espartano gana: En este caso el espartano mata al persa sin salir herido. Por ello el estado del soldado persa pasa a muerto sin importar si estaba herido o sano. \n",
      "    2) El espartano empata: Ambos soldados se infligen da\u00f1o, por lo que el estado de cada uno pasa de sano a herido si estaban sanos o de sanos a muertos si estaban heridos.\n",
      "    3) El espartano pierde: En este caso el persa hiere al espartano, por lo que el estado del persa no cambia y el del espartano pasa de sano a herido o de herido a muerto.\n",
      "\n",
      "- La probabilidad del caso 1 queda dada por **p** moral del espartano, la del caso 2 por **q** moral del persa y la del caso 3 por **z**\n",
      "\n",
      "- Estas probabilidades dependen de los siguientes par\u00e1metros ex\u00f3genos y end\u00f3genos:\n",
      "    - Preparaci\u00f3n de cada soldado que interact\u00faa.\n",
      "    - Relaci\u00f3n de bajas (Cantidad de tropas espartanas muertas entre la cantidad de tropas persas muertas).\n",
      "    - El estado en el que se encuentra cada uno de los soldados que interact\u00faan.\n",
      "    - La moral de cada soldado queda determinada de manera end\u00f3gen"
     ]
    },
    {
     "cell_type": "heading",
     "level": 4,
     "metadata": {},
     "source": [
      "Mundo\n"
     ]
    },
    {
     "cell_type": "markdown",
     "metadata": {},
     "source": [
      "El mundo por default es una matriz de 250x250, e inmediatamente desp\u00faes de su creaci\u00f3n, dibuja el paso de Term\u00f3pilas.\n",
      "- El paso de Term\u00f3pilas tendr\u00e1 una longitud de .02 del total de columnas. (Fue pensado para 250x250 y que hubieran 5 peleadores por fila.)\n",
      "- La matriz contiene:\n",
      "        a) 0 si la posici\u00f3n est\u00e1 vac\u00eda.\n",
      "        b) 1 si hay un espartano.\n",
      "        c) 2 si hay un persa o inmortal.\n",
      "        d) 3 si hay monta\u00f1a.\n",
      "    "
     ]
    },
    {
     "cell_type": "heading",
     "level": 4,
     "metadata": {},
     "source": [
      "Agregar ej\u00e9rcitos"
     ]
    },
    {
     "cell_type": "markdown",
     "metadata": {},
     "source": [
      "Por la manera de plantear el problema, necesitamos un m\u00e9todo especial para agregar a los soldados.\n",
      "- De ser espartanos, verifica que haya lugar en el paso de Term\u00f3pilas para todos, de no haberla regresa un error.\n",
      "- De ser persas, los coloca de atr\u00e1s para adelante en el otro extremo del mapa."
     ]
    },
    {
     "cell_type": "code",
     "collapsed": false,
     "input": [
      "class Soldado:\n",
      "    \n",
      "    def __init__(self,tipo,mundo,estado=\"v\" ,preparacion_e=.85,preparacion_p=.4,preparacion_i=.6):\n",
      "        \n",
      "        self.tipo = tipo \n",
      "        \"\"\"Puede ser de tres tipos, espartano(1), persa (2) e inmortales(3).\"\"\"\n",
      "        self.mundo=mundo\n",
      "        self.estado=estado\n",
      "        self.posicion=[0,0]\n",
      "        if self.tipo==1: \n",
      "            self.preparacion = random.uniform(preparacion_e,1)\n",
      "        elif self.tipo==2:\n",
      "            self.preparacion = random.uniform(.2,preparacion_p)\n",
      "        elif self.tipo==3:\n",
      "            self.preparacion = random.uniform(preparacion_i,.7)\n",
      "        \"\"\"Aqu\u00ed va d\u00f3nde se localizan\"\"\"\n",
      "        #self.locacion = \n",
      "        self.moral=1\n",
      "     \n",
      "    def actuar_Persa(self):\n",
      "        enfrente=[self.posicion[0]+1,self.posicion[1]]       \n",
      "        if self.mundo.mundo[enfrente[0]][enfrente[1]]==1:\n",
      "            \"\"\"Hay persa enfrente\"\"\"\n",
      "            \"\"\"Debemos localizar al que esta en esa posicion. Usamos la funcion quien_Esta para obtener al agente\n",
      "            que se encuentra ah\u00ed.\"\"\"\n",
      "            self.mundo.combate(self,self.mundo.quien_Esta(enfrente[0],enfrente[1]))\n",
      "        elif self.frontera():\n",
      "            self.moverse()        \n",
      "    \n",
      "    def actuar_Espartano(self):\n",
      "        enfrente=[self.posicion[0]-1,self.posicion[1]]\n",
      "        if self.mundo.mundo[enfrente[0]][enfrente[1]]==2:\n",
      "            \"\"\"Hay persa enfrente\"\"\"\n",
      "            \"\"\"Debemos localizar al que esta en esa posicion\"\"\"\n",
      "            self.mundo.combate(self,self.mundo.quien_Esta(enfrente[0],enfrente[1]))\n",
      "        elif self.frontera():\n",
      "            self.moverse()\n",
      "                    \n",
      "    def moverse(self):\n",
      "        \"\"\"Definimos lo que hay alrededor del agente\"\"\"\n",
      "        if self.tipo==1:\n",
      "            if self.mundo.mundo[(self.posicion[0]-1)][self.posicion[1]]==0:\n",
      "                \"\"\"Lugar vac\u00edo enfrente\"\"\"\n",
      "                self.mundo.mundo[self.posicion[0]-1][self.posicion[1]]=1\n",
      "                self.mundo.mundo[self.posicion[0]][self.posicion[1]]=0                \n",
      "                self.posicion=[self.posicion[0]-1,self.posicion[1]]\n",
      "        elif self.tipo==2 or self.tipo==3:\n",
      "            if self.mundo.mundo[(self.posicion[0]+1)][self.posicion[1]]==0:\n",
      "                \"\"\"Lugar vac\u00edo enfrente\"\"\"\n",
      "                self.mundo.mundo[self.posicion[0]+1][self.posicion[1]]=2\n",
      "                self.mundo.mundo[self.posicion[0]][self.posicion[1]]=0                \n",
      "                self.posicion=[self.posicion[0]+1,self.posicion[1]]                \n",
      "            else:\n",
      "                \"\"\"Izquierda o derecha, el agente se movera hacia la mitad del mapa\"\"\"\n",
      "                direccion=1\n",
      "                if self.posicion[1]>(len(self.mundo.mundo[0]))/2:\n",
      "                    direccion=-1\n",
      "                if self.mundo.mundo[self.posicion[0]][self.posicion[1]+direccion]==0:               \n",
      "                    self.mundo.mundo[self.posicion[0]][self.posicion[1]+direccion]=2\n",
      "                    self.mundo.mundo[self.posicion[0]][self.posicion[1]]=0                \n",
      "                    self.posicion=[self.posicion[0],self.posicion[1]+direccion]              \n",
      "        \n",
      "    def frontera(self):\n",
      "        \"\"\"Regresa True o False si el soldado est\u00e1 dentro de la frontera para cada lado correspondiente\"\"\"\n",
      "        frontera=True\n",
      "        if self.tipo==1:\n",
      "            if self.posicion[0]<=self.mundo.FilasPasoTermopilas:\n",
      "                frontera=False\n",
      "        else:\n",
      "            if self.posicion[0]>=self.mundo.FilasPasoTermopilas:\n",
      "                frontera=False \n",
      "                \n",
      "        return frontera    \n",
      "        \n",
      "    def actualizar(self):\n",
      "        \"\"\"En primer lugar, actualiza su moral, luego, ya que cada uno se comporta diferente\n",
      "        llama el m\u00e9todo de como deben actuar.\"\"\"\n",
      "        self.actualizar_moral()\n",
      "        \"\"\"Checamos que el soldado no est\u00e9 huyendo. Cuando huye su moral se convierte en 0.\"\"\"\n",
      "        if self.moral!=0:    \n",
      "            if self.tipo==1:\n",
      "                self.actuar_Espartano()\n",
      "            else:\n",
      "                self.actuar_Persa()\n",
      "        else:\n",
      "            self.huir()\n",
      "    def actualizar_moral(self):\n",
      "\n",
      "\n",
      "        relacion_bajas=self.mundo.espartanos_bajas/self.mundo.persas_bajas\n",
      "                              \n",
      "        if self.tipo==1 and self.moral!=0:\n",
      "            \"\"\"(1- (relacion_bajas))*\"\"\"\n",
      "            self.moral = self.preparacion\n",
      "        elif (self.tipo==2 or self.tipo==3) and self.moral!=0:\n",
      "            self.moral = (relacion_bajas)*self.preparacion\n",
      "        \"\"\"Ahora veremos si el soldado debe huir. Ponemos una cuota que consideramos\n",
      "        que es equivalente a cuando el soldado tiene una moral muy baja, y est\u00e1 aterrado\"\"\"\n",
      "        if relacion_bajas<.03 and self.tipo!=1 :\n",
      "            x=random.uniform(0,.03)\n",
      "            if x>relacion_bajas:\n",
      "                self.moral=0\n",
      "                if self.tipo==1:\n",
      "                    self.mundo.espartanos_bajas+=1\n",
      "                else:\n",
      "                    self.mundo.persas_bajas+=1\n",
      "                    \n",
      "    def huir(self):\n",
      "        \"\"\"Ser\u00e1 el nuevo movimiento de quienes comienzen a hu\u00edr.\"\"\"\n",
      "        if self.tipo==2 or self.tipo==3:\n",
      "          \"\"\"Aqu\u00ed se ve raro el uso de un triple if, y no de otro operador l\u00f3gico, pero impide\n",
      "          salirnos del rango de la matriz.\"\"\"\n",
      "          if self.posicion[0]!=0 :\n",
      "            if self.mundo.mundo[(self.posicion[0]-1)][self.posicion[1]]==0 :\n",
      "                \"\"\"Lugar vac\u00edo atr\u00e1s, y no han llegado a la esquina.\"\"\"\n",
      "                self.mundo.mundo[self.posicion[0]-1][self.posicion[1]]=2\n",
      "                self.mundo.mundo[self.posicion[0]][self.posicion[1]]=0                \n",
      "                self.posicion=[self.posicion[0]-1,self.posicion[1]]             \n",
      "        elif self.tipo==1:\n",
      "          if self.posicion[0]!=(len(self.mundo.mundo)-1):\n",
      "            if self.mundo.mundo[(self.posicion[0]+1)][self.posicion[1]]==0 :\n",
      "                \"\"\"Lugar vac\u00edo enfrente, y no han llegado a la esquina.\"\"\"\n",
      "                self.mundo.mundo[self.posicion[0]+1][self.posicion[1]]=1\n",
      "                self.mundo.mundo[self.posicion[0]][self.posicion[1]]=0                \n",
      "                self.posicion=[self.posicion[0]+1,self.posicion[1]]      "
     ],
     "language": "python",
     "metadata": {},
     "outputs": [],
     "prompt_number": 2
    },
    {
     "cell_type": "code",
     "collapsed": false,
     "input": [
      "class Termopilas:\n",
      "    \n",
      "     def __init__(self, filas=250,columnas=250, steps=30):\n",
      "        \n",
      "        self.filas=filas\n",
      "        self.columnas=columnas\n",
      "        self.mundo=np.zeros((filas,columnas))\n",
      "        self.steps=steps\n",
      "        self.init_anim()\n",
      "        \n",
      "        \"\"\"Tras discutir, decidimos la proporici\u00f3n del tama\u00f1o del paso de Termopilas\n",
      "        despu\u00e9s, ajustamos su longitud para que quepa el ej\u00e9rcito Espartano en su totalidad.\n",
      "        Adem\u00e1s agregamos cinco filas que ser\u00e1n espacio para la batalla\"\"\"\n",
      "        \"\"\"PasoTermopilas contiene las dimensiones del paso.\n",
      "        FilasPasoTermopilas y ColumnasPasoTermopilas contiene el punto donde empieza el paso.\"\"\"\n",
      "        \n",
      "        self.PasoTermopilas= [int(300/int(columnas*.02))+5, int(columnas*.02)]\n",
      "        self.FilasPasoTermopilas=len(self.mundo)-self.PasoTermopilas[0]\n",
      "        self.ColumnasPasoTermopilas=int((len(self.mundo[0])-self.PasoTermopilas[1])/2)\n",
      "        \"\"\"Ahora rellenamos con monta\u00f1as todo lo que est\u00e1 alrededor del paso.\"\"\"\n",
      "        self.mundo[self.FilasPasoTermopilas:len(self.mundo)]=3\n",
      "        self.mundo[self.FilasPasoTermopilas:len(self.mundo),self.ColumnasPasoTermopilas:(self.ColumnasPasoTermopilas+self.PasoTermopilas[1])]=0\n",
      "        self.soldados=[] \n",
      "        self.espartanos_vivos=0\n",
      "        self.espartanos_bajas=1\n",
      "        self.persas_vivos=0\n",
      "        self.persas_bajas=10\n",
      "        \n",
      "        \n",
      "     def agregar_Soldados(self,tipo, numero):\n",
      "               \n",
      "        lugaresVacios = 0\n",
      "        posiciones = []\n",
      "        nuevos=[]\n",
      "        \"\"\"Es espartano, debe haber espacio en el paso de Termopilas, de haberlo registrara donde est\u00e1 para asignarlo.\"\"\"\n",
      "        if tipo == 1: \n",
      "            for fila in range(self.PasoTermopilas[0]):\n",
      "                for columna in range(self.PasoTermopilas[1] ):             \n",
      "                    if self.mundo[self.FilasPasoTermopilas + fila , self.ColumnasPasoTermopilas + columna] == 0:\n",
      "                        x, y = self.FilasPasoTermopilas + fila , self.ColumnasPasoTermopilas + columna\n",
      "                        posiciones.append([x,y])\n",
      "                        lugaresVacios += 1     \n",
      "                        \n",
      "            if lugaresVacios >= numero:\n",
      "                \"\"\"Creamos los nuevos soldados\"\"\"\n",
      "                nuevos = [Soldado(tipo,self) for i in range(numero)]\n",
      "                self.espartanos_vivos+=numero\n",
      "                for soldado in nuevos:\n",
      "                    \"\"\"Corregir con la clase\"\"\"\n",
      "                    \"\"\"Les asignamos la \u00faltima posici\u00f3n vac\u00eda, y despu\u00e9s cambiamos el estado de \u00e9sta\"\"\"\n",
      "                    soldado.posicion=posiciones[-1]\n",
      "                    self.mundo[posiciones[-1][0], posiciones[-1][1]] = 1\n",
      "                    posiciones.remove(posiciones[-1])\n",
      "            else:               \n",
      "                print \"No hay lugares disponibles para dicho n\u00famero de tropas.\"                \n",
      "        else:            \n",
      "            for fila in range(len(self.mundo) - self.PasoTermopilas[0]):     \n",
      "                for columna in range(len(self.mundo[0])): \n",
      "                    if self.mundo[fila,columna] == 0:\n",
      "                        x, y=fila,columna\n",
      "                        posiciones.append([x,y])\n",
      "                        lugaresVacios += 1                       \n",
      "            if lugaresVacios >= numero:                \n",
      "                nuevos = [Soldado(tipo,self) for i in range(numero)]  \n",
      "                self.persas_vivos+=numero\n",
      "                for soldado in nuevos:\n",
      "                    \"\"\"Corregir con la clase\"\"\"\n",
      "                    soldado.posicion = posiciones[0]\n",
      "                    self.mundo[posiciones[0][0],posiciones[0][1]] = 2\n",
      "                    posiciones.remove(posiciones[0])\n",
      "            else:\n",
      "                print \"No hay lugares disponibles para dicho n\u00famero de tropas.\"                                                          \n",
      "        self.soldados.extend(nuevos)\n",
      "        \n",
      "        \n",
      "     def init_anim(self):\n",
      "            \n",
      "        self.fig = plt.figure(figsize=(10, 10))\n",
      "        self.ax = plt.axes(xlim=(0,self.filas), ylim=(0,self.columnas))\n",
      "        self.ax.grid(True,color='red')\n",
      "        self.ax.set_axis_bgcolor('azure')\n",
      "        plot_args = {'markersize' : 8, 'alpha' : 0.6}\n",
      "        \"\"\"agregamos ahora dos tipos de datos, del tipo uno y del tipo cero\"\"\"\n",
      "        self.espartanos, = self.ax.plot([], [], 'wo', **plot_args)\n",
      "        self.persas, = self.ax.plot([], [], 'ro', **plot_args)\n",
      "\n",
      "                       \n",
      "        self.montanas, =  self.ax.plot([], [], 'k^', **plot_args)\n",
      "        \n",
      "        \n",
      "        \n",
      "        \n",
      "        \n",
      "     def dibujar(self, step):\n",
      "        \"\"\"Como tenemos dos tipos de datos, duplicamos el proceso,\n",
      "        pero ahora con una decisi\u00f3n de donde mete cada locaci\u00f3n de\n",
      "        acuerdo a su tipo.\"\"\"\n",
      "    \n",
      "        x_espartanos, y_espartanos = [], []\n",
      "        x_persas, y_persas = [], []\n",
      "        x_montana, y_montana = [], []\n",
      "        \n",
      "        for fila in range(self.filas):\n",
      "          for columna in range(self.columnas):\n",
      "            if self.mundo[fila,columna] == 1:\n",
      "             x, y = fila,columna\n",
      "             x_espartanos.append(x)\n",
      "             y_espartanos.append(y) \n",
      "            elif self.mundo[fila,columna] == 2:\n",
      "             x, y = fila,columna\n",
      "             x_persas.append(x)\n",
      "             y_persas.append(y) \n",
      "            elif self.mundo[fila,columna] == 3:  \n",
      "             x, y = fila,columna\n",
      "             x_montana.append(x)\n",
      "             y_montana.append(y)\n",
      "        self.montanas.set_data(x_montana,y_montana)            \n",
      "        self.espartanos.set_data(x_espartanos, y_espartanos)\n",
      "        self.persas.set_data(x_persas, y_persas)\n",
      "        self.ax.set_title('Paso {}'.format(step))\n",
      "        self.ax.legend(('Espartanos vivos:'+str(self.espartanos_vivos),'Persas vivos:'+str(self.persas_vivos)),loc='upper left')\n",
      "        \n",
      "        return self.espartanos, self.persas, self.montanas\n",
      "    \n",
      "    \n",
      "     def quien_Esta(self, renglon,columna):\n",
      "            vector=[]\n",
      "            for soldado in self.soldados:\n",
      "                vector.append(soldado.posicion)\n",
      "            indice=vector.index([renglon,columna])    \n",
      "            return self.soldados[indice]\n",
      "                   \n",
      "     def combate(self, peleador_1,peleador_2):  \n",
      "        \"\"\"Simula el enfrentamiento de cada soldado espartano contra los persas.\"\"\"\n",
      "\n",
      "        while peleador_1.estado!=\"m\" and peleador_2.estado!=\"m\":\n",
      "                p=peleador_1.moral\n",
      "                q=peleador_2.moral\n",
      "                \n",
      "                x= random.random()\n",
      "                if x<p:\n",
      "                    \"\"\"Significa que gan\u00f3 el 1\"\"\"\n",
      "                    self.mundo[peleador_2.posicion[0]][peleador_2.posicion[1]]=0\n",
      "                    peleador_2.estado=\"m\"\n",
      "                    self.soldados.remove(peleador_2)\n",
      "                    if peleador_1.tipo==1:\n",
      "                        self.persas_vivos-=1\n",
      "                        self.persas_bajas+=1\n",
      "                    else:\n",
      "                        self.espartanos_vivos-=1\n",
      "                        self.espartanos_bajas+=1\n",
      "                                             \n",
      "                        \n",
      "                elif p<x<q:\n",
      "                    \"\"\"Gan\u00f3 el peleador 2\"\"\"\n",
      "                    self.mundo[peleador_1.posicion[0]][peleador_1.posicion[1]]=0\n",
      "                    peleador_1.estado=\"m\"\n",
      "                    self.soldados.remove(peleador_1)\n",
      "                    if peleador_1.tipo==1:\n",
      "                        self.persas_vivos-=1\n",
      "                        self.persas_bajas+=1\n",
      "                    else:\n",
      "                        self.espartanos_vivos-=1\n",
      "                        self.espartanos_bajas+=1                    \n",
      "                    \n",
      "                else:\n",
      "                    \"\"\"Ambos se hirieron.\"\"\"\n",
      "                    if peleador_1.estado==\"h\":\n",
      "                        self.mundo[peleador_1.posicion[0]][peleador_1.posicion[1]]=0\n",
      "                        peleador_1.estado=\"m\"\n",
      "                        self.soldados.remove(peleador_1)                       \n",
      "                    elif peleador_2.estado==\"h\":\n",
      "                        self.mundo[peleador_2.posicion[0]][peleador_2.posicion[1]]=0\n",
      "                        peleador_2.estado=\"m\"\n",
      "                        self.soldados.remove(peleador_2)                        \n",
      "                    else:\n",
      "                        peleador_1.estado=\"h\"\n",
      "                        peleador_2.estado=\"h\"\n",
      "\n",
      "     def actualizar(self, step):   \n",
      "        self.dibujar(step) # Dibuja el mundo\n",
      "        \n",
      "        for soldado in self.soldados:\n",
      "            soldado.actualizar()\n",
      "    \n",
      "     def clean_screen(self):\n",
      "        self.espartanos.set_data([], [])\n",
      "        self.persas.set_data([], [])\n",
      "        self.montanas.set_data([],[])\n",
      "        return self.espartanos, self.persas, self.montanas\n",
      "          \n",
      "     def simular(self):\n",
      "        anim = animation.FuncAnimation(self.fig, self.actualizar, init_func=self.clean_screen, frames=self.steps, interval=1000, blit=False)\n",
      "        return anim"
     ],
     "language": "python",
     "metadata": {},
     "outputs": [],
     "prompt_number": 3
    },
    {
     "cell_type": "code",
     "collapsed": false,
     "input": [
      "termopilas= Termopilas(steps=1500)\n",
      "termopilas.agregar_Soldados(1,300)\n",
      "termopilas.agregar_Soldados(2,10000)\n",
      "\n",
      "term=termopilas.simular()\n",
      "display_animation(term)"
     ],
     "language": "python",
     "metadata": {},
     "outputs": []
    }
   ],
   "metadata": {}
  }
 ]
}