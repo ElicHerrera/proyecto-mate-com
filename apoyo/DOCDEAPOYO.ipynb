{
 "metadata": {
  "name": "",
  "signature": "sha256:a69d641b8412ba8532239906688df19544db697a0562ba8ce3133ee105c69409"
 },
 "nbformat": 3,
 "nbformat_minor": 0,
 "worksheets": [
  {
   "cells": [
    {
     "cell_type": "markdown",
     "metadata": {},
     "source": [
      "En seguida les dejo links con documentaci\u00f3n que nos pueden ser \u00fatiles:\n",
      "\n",
      "**Sympy**:\n",
      "http://nbviewer.ipython.org/github/jrjohansson/scientific-python-lectures/blob/master/Lecture-5-Sympy.ipynb"
     ]
    },
    {
     "cell_type": "code",
     "collapsed": false,
     "input": [],
     "language": "python",
     "metadata": {},
     "outputs": []
    }
   ],
   "metadata": {}
  }
 ]
}