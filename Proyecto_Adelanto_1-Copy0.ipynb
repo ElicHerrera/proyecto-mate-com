{
 "metadata": {
  "name": "",
  "signature": "sha256:8badb2fa777d0d3ac2db42aadb42aef946cbf1abd50129ff9f7fa63b7e148ba7"
 },
 "nbformat": 3,
 "nbformat_minor": 0,
 "worksheets": [
  {
   "cells": [
    {
     "cell_type": "heading",
     "level": 1,
     "metadata": {},
     "source": [
      "PROYECTO"
     ]
    },
    {
     "cell_type": "code",
     "collapsed": false,
     "input": [
      "%pylab inline\n",
      "import numpy as np\n",
      "import matplotlib.pyplot as plt\n",
      "import sympy as sy\n",
      "from __future__ import division\n",
      "from abc import ABCMeta, abstractmethod"
     ],
     "language": "python",
     "metadata": {},
     "outputs": [
      {
       "output_type": "stream",
       "stream": "stdout",
       "text": [
        "Populating the interactive namespace from numpy and matplotlib\n"
       ]
      }
     ],
     "prompt_number": 1
    },
    {
     "cell_type": "heading",
     "level": 2,
     "metadata": {},
     "source": [
      "METACLASE"
     ]
    },
    {
     "cell_type": "markdown",
     "metadata": {},
     "source": [
      "Definimos una metaclase Guerra que nos ayudar\u00e1 a resolver los problemas propuestos:"
     ]
    },
    {
     "cell_type": "code",
     "collapsed": false,
     "input": [
      "\"\"\"Definimos la clase guerra como una clase abstracta, ya que tan s\u00f3lo servir\u00e1 para que los diferentes tipos de guerra compartan \n",
      "ciertas caracter\u00edsticas\"\"\"\n",
      "class Guerra:\n",
      "    __metaclass__ = ABCMeta\n",
      "    def __init__(self,a,b):\n",
      "        pass\n",
      "   \n",
      "    def x(self):\n",
      "        return self.trajectory[:,0]   #Devuelve la trayectoria del ej\u00e9rcito rojo\n",
      "    \n",
      "    def y(self):\n",
      "        return self.trajectory[:,1]    #Devuelve la trayectoria del ej\u00e9rcito azul\n",
      "   \n",
      "    \n",
      "    def plot(self):\n",
      "        fig, ax = plt.subplots(2,1, figsize=(10,8), sharex = True)\n",
      "\n",
      "        ax[0].plot(self.tau, self.x(), label=\"Tropas Rojos\", color=\"red\")\n",
      "        ax[1].plot(self.tau, self.y(), label=\"Tropas Azules\", color=\"blue\")\n",
      "        ax[0].legend(loc='upper left')\n",
      "        ax[1].legend(loc='upper left')\n",
      "        \"\"\"Los subplots ser\u00e1 uno para la trayectoria de cada ej\u00e9rcito\"\"\"\n",
      "\n",
      "        ax[0].set_ylabel(\"Tropas Rojas\")\n",
      "        ax[0].set_xlabel(\"Tropas Azules\")\n",
      "\n",
      "        ax[1].set_ylabel(\"Azules\")\n",
      "        ax[1].set_xlabel(\"Tiempo\")\n",
      "\n",
      "    def plotjunto(self):\n",
      "        plt.figure(figsize=(18, 6), dpi=80)\n",
      "        plt.plot(self.tau,self.x(),color=\"blue\", linewidth=1.0, linestyle=\"-\",label=\"Tropas Azules\");\n",
      "        plt.plot(self.tau,self.y(),color=\"red\", linewidth=1.0, linestyle=\"-\",label=\"Tropas Rojas\");\n",
      "        plt.legend(loc='upper right')\n",
      "    def initial_conditions(self, x_i, y_i):\n",
      "        \"\"\"Se definen las condiciones iniciales que corresponden a la cantidad inicial de soldadosb.\"\"\"\n",
      "        self.x_i = x_i\n",
      "        self.y_i = y_i\n",
      "        \n",
      "    def integrate(self, num_steps, t_i, t_f, method):\n",
      "        \"\"\"Debemos de hacer ahora una matriz con dos columnas, ya que son dos variables.\"\"\"\n",
      "        self.tau, self.dt = np.linspace(t_i, t_f, num=num_steps, retstep=True)\n",
      "        self.trajectory = np.zeros([num_steps, 2])\n",
      "        self.trajectory[0,0] = self.x_i\n",
      "        self.trajectory[0,1] = self.y_i\n",
      "                \n",
      "        for j in range(N-1):\n",
      "            self.trajectory[j+1] = method(self.trajectory[j], self.tau[j], self.dt, self.dynamics)  \n"
     ],
     "language": "python",
     "metadata": {},
     "outputs": [],
     "prompt_number": 2
    },
    {
     "cell_type": "heading",
     "level": 2,
     "metadata": {},
     "source": [
      "M\u00c9TODOS"
     ]
    },
    {
     "cell_type": "markdown",
     "metadata": {},
     "source": [
      "Para resolver los problemas propuestos necesitamos m\u00e9todos de derivaci\u00f3n:"
     ]
    },
    {
     "cell_type": "heading",
     "level": 3,
     "metadata": {},
     "source": [
      "RUNGE KUTTA:"
     ]
    },
    {
     "cell_type": "code",
     "collapsed": false,
     "input": [
      "def RK2(y, t, dt, derivadas):\n",
      "    k0 = dt*derivadas(y, t)\n",
      "    k1 = dt*derivadas(y + k0, t + dt)\n",
      "    y_next = y + 0.5*(k0 + k1)\n",
      "    \n",
      "    return y_next"
     ],
     "language": "python",
     "metadata": {},
     "outputs": [],
     "prompt_number": 3
    },
    {
     "cell_type": "heading",
     "level": 3,
     "metadata": {},
     "source": [
      "EULER:"
     ]
    },
    {
     "cell_type": "code",
     "collapsed": false,
     "input": [
      "def euler(y, t, dt, derivadas):\n",
      "    y_next = y + derivadas(y, t)*dt\n",
      "    return y_next"
     ],
     "language": "python",
     "metadata": {},
     "outputs": [],
     "prompt_number": 4
    },
    {
     "cell_type": "heading",
     "level": 2,
     "metadata": {},
     "source": [
      "MODELO"
     ]
    },
    {
     "cell_type": "markdown",
     "metadata": {},
     "source": [
      "Utilizaremos el modelo que **Frederick Lanchester** propuso en 1916 para estudiar una batalla:"
     ]
    },
    {
     "cell_type": "markdown",
     "metadata": {},
     "source": [
      "Las suposiciones son las siguientes:"
     ]
    },
    {
     "cell_type": "markdown",
     "metadata": {},
     "source": [
      "- Hay dos lados en la batalla: **azules** y **rojos**.\n",
      "- Los principales factores que deciden el resultado de la batalla son el n\u00famero de tropas y el entrenamiento/equipo.\n",
      "- Sea $x$ el n\u00famero de tropas de los **rojos** y $y$ el n\u00famero de tropas de los **azules**.\n",
      "- Sea $a$ la potencia de fuego de los **rojos** y sea $b$ la potencia de fuego de los **azules**.\n",
      "    - La _potencia de fuego_ est\u00e1 basada en el entrenamiento, equipo, etc."
     ]
    },
    {
     "cell_type": "markdown",
     "metadata": {},
     "source": [
      "Con estas suposiciones tenemos el modelo de Lanchester:\n",
      "\n",
      "$$\n",
      "\\frac{dx}{dt} = -ay\n",
      "$$\n",
      "\n",
      "\n",
      "$$\n",
      "\\frac{dy}{dt} = -bx\n",
      "$$\n",
      "\n",
      "con condiciones iniciales $x(0) = x_0$ y $y(0) = y_0$."
     ]
    },
    {
     "cell_type": "markdown",
     "metadata": {},
     "source": [
      " "
     ]
    },
    {
     "cell_type": "markdown",
     "metadata": {},
     "source": [
      " "
     ]
    },
    {
     "cell_type": "heading",
     "level": 4,
     "metadata": {},
     "source": [
      "Inciso A)"
     ]
    },
    {
     "cell_type": "markdown",
     "metadata": {},
     "source": [
      "Primero se nos pide que resolvamos el modelo de Lanchester de forma expl\u00edcita:"
     ]
    },
    {
     "cell_type": "code",
     "collapsed": false,
     "input": [
      "    ## Importamos la librer\u00e1 de Sympy e inicializamos el printing.\n",
      "from sympy import *\n",
      "from sympy.solvers import solve\n",
      "init_printing"
     ],
     "language": "python",
     "metadata": {},
     "outputs": [
      {
       "metadata": {},
       "output_type": "pyout",
       "prompt_number": 5,
       "text": [
        "<function sympy.interactive.printing.init_printing>"
       ]
      }
     ],
     "prompt_number": 5
    },
    {
     "cell_type": "code",
     "collapsed": false,
     "input": [
      "    ## Inicializamos las variables que vamos a utilizar.\n",
      "x,y,a,b = symbols('x,y,a,b')\n",
      "d0=-a*y\n",
      "d1=-b*x\n",
      "d0,d1"
     ],
     "language": "python",
     "metadata": {},
     "outputs": [
      {
       "metadata": {},
       "output_type": "pyout",
       "prompt_number": 6,
       "text": [
        "(-a*y, -b*x)"
       ]
      }
     ],
     "prompt_number": 6
    },
    {
     "cell_type": "code",
     "collapsed": false,
     "input": [
      "solve([d1,d0])"
     ],
     "language": "python",
     "metadata": {},
     "outputs": [
      {
       "metadata": {},
       "output_type": "pyout",
       "prompt_number": 7,
       "text": [
        "[{b: 0, a: 0}, {x: 0, a: 0}, {b: 0, y: 0}, {x: 0, y: 0}]"
       ]
      }
     ],
     "prompt_number": 7
    },
    {
     "cell_type": "markdown",
     "metadata": {},
     "source": [
      " "
     ]
    },
    {
     "cell_type": "markdown",
     "metadata": {},
     "source": [
      " "
     ]
    },
    {
     "cell_type": "heading",
     "level": 4,
     "metadata": {},
     "source": [
      "Inciso B)"
     ]
    },
    {
     "cell_type": "markdown",
     "metadata": {},
     "source": [
      "El modelo de Lanchester se puede ver de dos formas:"
     ]
    },
    {
     "cell_type": "markdown",
     "metadata": {},
     "source": [
      "- LINEAL.\n",
      "- CUADR\u00c1TICA."
     ]
    },
    {
     "cell_type": "markdown",
     "metadata": {},
     "source": [
      "La forma **lineal** es la m\u00e1s sencilla porque implica solamente ataque cuerpo a cuerpo (**CQC**)\n",
      "$$\n",
      "\\frac{dx}{dt} = -ay\n",
      "$$\n",
      "\n",
      "\n",
      "$$\n",
      "\\frac{dy}{dt} = -bx\n",
      "$$\n"
     ]
    },
    {
     "cell_type": "markdown",
     "metadata": {},
     "source": [
      "La forma **cuadr\u00e1tica** es un poco m\u00e1s complicada porque implica una batalla con armas de mediana o larga distancia: $$\n",
      "x^2 - \\frac{b}{a}y^2 = K,\n",
      "$$\n",
      "para varios valores de $K$."
     ]
    },
    {
     "cell_type": "markdown",
     "metadata": {},
     "source": [
      "En la forma **cuadr\u00e1tica**, las variables no cambian, pero s\u00ed lo hace su comportamiento:"
     ]
    },
    {
     "cell_type": "markdown",
     "metadata": {},
     "source": [
      " - Primeramente, se vuelve cuadrada porque cualquier unidad de x puede atacar y ser atacado de cualquier parte del campo.\n",
      " - 'K' es el resultado al final de la batalla: \n",
      "     - Si K > 0, entonces **x** gan\u00f3. \n",
      "     - Si K < 0, entonces **y** gan\u00f3."
     ]
    },
    {
     "cell_type": "markdown",
     "metadata": {},
     "source": [
      "Llamaremos a 'K' como 'z'."
     ]
    },
    {
     "cell_type": "code",
     "collapsed": false,
     "input": [
      "z=Symbol('z')"
     ],
     "language": "python",
     "metadata": {},
     "outputs": [],
     "prompt_number": 8
    },
    {
     "cell_type": "markdown",
     "metadata": {},
     "source": [
      "Para K=0, esta es la soluci\u00f3n (**empate**):"
     ]
    },
    {
     "cell_type": "code",
     "collapsed": false,
     "input": [
      "solve(x**2-(a/b)*y**2)"
     ],
     "language": "python",
     "metadata": {},
     "outputs": [
      {
       "metadata": {},
       "output_type": "pyout",
       "prompt_number": 9,
       "text": [
        "[{a: b*x**2/y**2}]"
       ]
      }
     ],
     "prompt_number": 9
    },
    {
     "cell_type": "markdown",
     "metadata": {},
     "source": [
      " "
     ]
    },
    {
     "cell_type": "markdown",
     "metadata": {},
     "source": [
      "Para K < 0, esta es la soluci\u00f3n (**gana 'y'**):"
     ]
    },
    {
     "cell_type": "code",
     "collapsed": false,
     "input": [
      "solve(x**2-(a/b)*y**2+z)"
     ],
     "language": "python",
     "metadata": {},
     "outputs": [
      {
       "metadata": {},
       "output_type": "pyout",
       "prompt_number": 10,
       "text": [
        "[{a: b*(x**2 + z)/y**2}]"
       ]
      }
     ],
     "prompt_number": 10
    },
    {
     "cell_type": "markdown",
     "metadata": {},
     "source": [
      "Para K > 0, esta es la soluci\u00f3n (**gana 'x'**):"
     ]
    },
    {
     "cell_type": "code",
     "collapsed": false,
     "input": [
      "solve(x**2-(a/b)*y**2-z)"
     ],
     "language": "python",
     "metadata": {},
     "outputs": [
      {
       "metadata": {},
       "output_type": "pyout",
       "prompt_number": 11,
       "text": [
        "[{a: b*(x**2 - z)/y**2}]"
       ]
      }
     ],
     "prompt_number": 11
    },
    {
     "cell_type": "markdown",
     "metadata": {},
     "source": [
      " "
     ]
    },
    {
     "cell_type": "heading",
     "level": 4,
     "metadata": {},
     "source": [
      "Inciso C)"
     ]
    },
    {
     "cell_type": "markdown",
     "metadata": {},
     "source": [
      "El modelo de Lanchester tambi\u00e9n se puede utilizar para modelar una guerra de guerrillas (GUERCOM):\n",
      "    $$\n",
      "\\frac{dx}{dt} = -axy\n",
      "$$\n",
      "$$\n",
      "\\frac{dy}{dt} = -bxy\n",
      "$$\n",
      "*Entre mayor sea el n\u00famero de tropas que tienes, m\u00e1s f\u00e1cil ser\u00e1 encontrar al enemigo. Adem\u00e1s de la cantidad de tropas del\n",
      "enemigo y la potencia de fuego propia*."
     ]
    },
    {
     "cell_type": "markdown",
     "metadata": {},
     "source": [
      "As\u00ed, sabiendo esto, definiremos nuestra funci\u00f3n GUERCOM:"
     ]
    },
    {
     "cell_type": "code",
     "collapsed": false,
     "input": [
      "class GuerCom (Guerra):\n",
      "    def __init__(self,a,b):\n",
      "        Guerra.__init__(self,a,b)\n",
      "        self.a=a\n",
      "        self.b=b\n",
      "        \n",
      "    def dynamics(self, state, t):\n",
      "        \"\"\"La din\u00e1mica es dada por el problema.\"\"\"\n",
      "        g0 = -self.a*state[0]*state[1]\n",
      "        g1 = -self.b*state[0]*state[1]\n",
      "        \n",
      "        \n",
      "        return np.array([g0,g1])"
     ],
     "language": "python",
     "metadata": {},
     "outputs": [],
     "prompt_number": 12
    },
    {
     "cell_type": "markdown",
     "metadata": {},
     "source": [
      "Y le aplicaremos par\u00e1metros para saber c\u00f3mo es el comportamiento de una batalla de *GUERCOM*."
     ]
    },
    {
     "cell_type": "code",
     "collapsed": false,
     "input": [
      "from IPython.html.widgets import interact, interactive, fixed\n",
      "from IPython.html import widgets"
     ],
     "language": "python",
     "metadata": {},
     "outputs": [],
     "prompt_number": 13
    },
    {
     "cell_type": "code",
     "collapsed": false,
     "input": [
      "N = 1000\n",
      "\n",
      "tiempo_inicial = 0.0\n",
      "\n",
      "tiempo_final = 20\n",
      "\n",
      "\n",
      "def GC(efectividad_rojos,efectividad_azules):\n",
      "    \n",
      "    soldados=100\n",
      "    \n",
      "    guerra1=GuerCom(efectividad_rojos,efectividad_azules)\n",
      "\n",
      "    guerra1.initial_conditions(x_i=3*soldados, y_i=soldados)\n",
      "\n",
      "    guerra1.integrate(N, tiempo_inicial, tiempo_final, RK2)\n",
      "\n",
      "    guerra1.plotjunto()\n",
      "    \n",
      " \n",
      "interact(GC,efectividad_rojos=(0.00001,0.004,.000009),efectividad_azules=(0.00001,0.0009,.000009))"
     ],
     "language": "python",
     "metadata": {},
     "outputs": [
      {
       "metadata": {},
       "output_type": "pyout",
       "prompt_number": 14,
       "text": [
        "<function __main__.GC>"
       ]
      },
      {
       "metadata": {},
       "output_type": "display_data",
       "png": "[encoded data removed]",
       "text": [
        "<matplotlib.figure.Figure at 0x7fbcdc7c4150>"
       ]
      }
     ],
     "prompt_number": 14
    },
    {
     "cell_type": "heading",
     "level": 4,
     "metadata": {},
     "source": [
      "Inciso D)"
     ]
    },
    {
     "cell_type": "markdown",
     "metadata": {},
     "source": [
      "Ahora utilizaremos el modelo de Lanchester para ver c\u00f3mo resultar\u00eda una batalla entre Guerrilla contra Ej\u00e9rcito\n",
      "   "
     ]
    },
    {
     "cell_type": "markdown",
     "metadata": {},
     "source": [
      "Por ejemplo: Durante la guerra de *Vietnam*, se hizo una guerra de Guerrilla (*Vietcong*) contra un Ej\u00e9rcito (*EU*). El modelo ser\u00eda el siguiente:\n",
      "$$\n",
      "\\frac{dx}{dt} = -axy\n",
      "$$\n",
      "$$\n",
      "\\frac{dy}{dt} = -bx,\n",
      "$$\n",
      "\n",
      "Donde, depende de c\u00f3mo lo veamos, sucede lo siguiente:\n",
      "\n",
      "Si decimos que **x** es el **EU** y **y** es la **Vietcong**, entonces, entre m\u00e1s tropas de *EU* haya, m\u00e1s f\u00e1cil ser\u00e1 detectar tropas de *Vietcong*.\n",
      "\n",
      "O viceversa."
     ]
    },
    {
     "cell_type": "markdown",
     "metadata": {},
     "source": [
      "En este caso, diremos que **x** es *EU* y que **y** es *Vietcong*"
     ]
    },
    {
     "cell_type": "markdown",
     "metadata": {},
     "source": [
      "Definimos nuestra clase **Vietnam** para modelar la batalla Vietcong *VS.* Estados Unidos"
     ]
    },
    {
     "cell_type": "code",
     "collapsed": false,
     "input": [
      "class Vietnam (Guerra):\n",
      "    def __init__(self,a,b):\n",
      "        Guerra.__init__(self,a,b)\n",
      "        self.a=a\n",
      "        self.b=b\n",
      "      \n",
      "    def dynamics(self, state, t):\n",
      "        \"\"\"La din\u00e1mica es dada por el problema.\"\"\"\n",
      "        g0 = -self.a*state[0]*state[1]\n",
      "        g1 = -self.b*state[0]\n",
      "        \n",
      "        \n",
      "        return np.array([g0,g1])\n"
     ],
     "language": "python",
     "metadata": {},
     "outputs": [],
     "prompt_number": 15
    },
    {
     "cell_type": "markdown",
     "metadata": {},
     "source": [
      " "
     ]
    },
    {
     "cell_type": "markdown",
     "metadata": {},
     "source": [
      " "
     ]
    },
    {
     "cell_type": "markdown",
     "metadata": {},
     "source": [
      "Para el caso a analizar, diremos que $a$ es proporcional a la raz\u00f3n entre el \u00e1rea de un guerrillero $A_g \\sim 2$ sq. ft. y el \u00e1rea ocupada por la guerrilla $A_x$\n",
      "$$\n",
      "a = c_1\\frac{A_g}{A_x},\n",
      "$$\n",
      "un guerrillero cubre aproximadamente $1,000$ sq.ft. y si est\u00e1n dispersados $A_x = (1,000)sq.ft. \\times x_0$.\n",
      "$b$ representa la efectividad de la guerrilla contra una fuerza convencional, y depende de la probabilidad de que un disparo de un guerrillero mate a un soldado. \n",
      "$$\n",
      "b = c_2p_x\n",
      "$$\n",
      "$c_1$ y $c_2$ son las tasas de disparo (depende de la tecnolog\u00eda del armamento) y se suponen aproximadas $c_1 \\sim c_2$. \u00bfCu\u00e1les son las condiciones de empate? \u00bfCu\u00e1ntos soldados convencionales debe de tener el ej\u00e9rcito convencional para derrotar a la guerrilla? En Vietnam, las tropas de EUA nunca fueron mayores a las del Vietcong por m\u00e1s de 6 a 1. \u00bfPudo haber ganado EUA?"
     ]
    },
    {
     "cell_type": "markdown",
     "metadata": {},
     "source": [
      " "
     ]
    },
    {
     "cell_type": "markdown",
     "metadata": {},
     "source": [
      " "
     ]
    },
    {
     "cell_type": "code",
     "collapsed": false,
     "input": [
      "N = 1000\n",
      "\n",
      "tiempo_inicial = 0.0\n",
      "\n",
      "tiempo_final = 30\n",
      "\n",
      "ejercito=100\n",
      "\n",
      "#    def efectividad_EU(tasa_disparo_EU):\n",
      "        \n",
      "#        return tasa_disparo_EU*(2/(1000*ejercito)\n",
      "\n",
      "#   def efectividad_Vietcon(tasa_disparo_Vietcong, probabilidad_matar_soldado):\n",
      "    \n",
      "#         return tasa_disparo_Vietcong*probabilidad_matar_soldado\n",
      "\n",
      "#efectividad_EU = interact(EF_EU, tasa_disparo_EU=(0.001,3,.01))\n",
      "\n",
      "#interact(efectividad_EU, tasa_disparo_EU=(0.001,3,.01))    \n",
      "    \n",
      "#efectividad_Vietcong = interact(EF_VC, tasa_disparo_Vietcong=(.001,2.7,.01), probabilidad_matar_soldado=(0,1,.001))\n",
      "\n",
      "#interact(efectividad_Vietcon, tasa_disparo_Vietcong=(.001,2.7,.01), probabilidad_matar_soldado=(0,1,.001))\n",
      "\n",
      "def GV(tasa_disparo_EU, tasa_disparo_Vietcong, probabilidad_matar_soldado):\n",
      "    \n",
      "    guerra2=Vietnam(tasa_disparo_EU*(2/(1000*ejercito)),tasa_disparo_Vietcong*probabilidad_matar_soldado)\n",
      "\n",
      "    guerra2.initial_conditions(x_i=ejercito, y_i=ejercito*6)\n",
      "\n",
      "    guerra2.integrate(N, tiempo_inicial, tiempo_final, RK2)\n",
      "\n",
      "    guerra2.plotjunto()\n",
      "    \n",
      "interact(GV, tasa_disparo_EU = (0.001,2,.01) ,tasa_disparo_Vietcong = (0.001,2,.01), probabilidad_matar_soldado = (0.001,1,.001))"
     ],
     "language": "python",
     "metadata": {},
     "outputs": [
      {
       "metadata": {},
       "output_type": "pyout",
       "prompt_number": 45,
       "text": [
        "<function __main__.GV>"
       ]
      },
      {
       "metadata": {},
       "output_type": "display_data",
       "png": "[encoded data removed]",
       "text": [
        "<matplotlib.figure.Figure at 0x7fbcdc77e210>"
       ]
      }
     ],
     "prompt_number": 45
    },
    {
     "cell_type": "code",
     "collapsed": false,
     "input": [],
     "language": "python",
     "metadata": {},
     "outputs": [],
     "prompt_number": 19
    },
    {
     "cell_type": "code",
     "collapsed": false,
     "input": [],
     "language": "python",
     "metadata": {},
     "outputs": [],
     "prompt_number": 16
    }
   ],
   "metadata": {}
  }
 ]
}