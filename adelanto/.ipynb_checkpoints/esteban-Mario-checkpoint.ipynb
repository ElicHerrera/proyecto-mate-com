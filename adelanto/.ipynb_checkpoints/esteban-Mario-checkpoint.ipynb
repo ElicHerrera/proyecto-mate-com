{
 "metadata": {
  "name": "",
  "signature": "sha256:919e7de70a31d7f05558db42f31f31e1f59173cd37292a481d6bac2c5aa6683d"
 },
 "nbformat": 3,
 "nbformat_minor": 0,
 "worksheets": [
  {
   "cells": [
    {
     "cell_type": "heading",
     "level": 2,
     "metadata": {},
     "source": [
      "Introducci\u00f3n"
     ]
    },
    {
     "cell_type": "markdown",
     "metadata": {},
     "source": [
      "**Obtetivo**: modelar una batalla de manera muy simple. El modelo que vamos a considerar fu\u00e9 propuesto por [**Frederick Lanchester**](http://en.wikipedia.org/wiki/Lanchester%27s_laws) en 1916. "
     ]
    },
    {
     "cell_type": "markdown",
     "metadata": {},
     "source": [
      "Los **supuestos** a utilizar son:"
     ]
    },
    {
     "cell_type": "markdown",
     "metadata": {},
     "source": [
      "- Existen dos bandos: **azules** y **rojos**.\n",
      "- Los supuestos que deciden el resultado de la batalla son el n\u00famero de tropas y el entrenamiento/equipo.\n"
     ]
    },
    {
     "cell_type": "markdown",
     "metadata": {},
     "source": [
      "**Variables** de los par\u00e1metros:"
     ]
    },
    {
     "cell_type": "markdown",
     "metadata": {},
     "source": [
      "- Sea **$x$** el n\u00famero de tropas de los **rojos** y **$y$** el n\u00famero de tropas de los **azules**.\n",
      "- Sea **$a$** la potencia de fuego de los **rojos** y sea **$b$** la potencia de fuego de los **azules**.\n",
      "    - La _potencia de fuego_ est\u00e1 basada en el entrenamiento, equipo, etc."
     ]
    },
    {
     "cell_type": "heading",
     "level": 2,
     "metadata": {},
     "source": [
      "Modelo"
     ]
    },
    {
     "cell_type": "markdown",
     "metadata": {},
     "source": [
      "De acuerdo a **Lanchester**, el modelo puede plantearse como un sistema de dos ecuaciones en diferencia con dos condiciones iniciales que corresponden al n\u00famero de tropas con las que se inicia."
     ]
    },
    {
     "cell_type": "markdown",
     "metadata": {},
     "source": [
      "\n",
      "\n",
      "$$\n",
      "\\frac{dx}{dt} = -ay\n",
      "$$\n",
      "\n",
      "\n",
      "$$\n",
      "\\frac{dy}{dt} = -bx\n",
      "$$\n",
      "\n",
      " $x(0) = x_0$ y $y(0) = y_0$."
     ]
    },
    {
     "cell_type": "markdown",
     "metadata": {},
     "source": [
      "*Con el fin de resolver los ejercicios de este proyecto proyecto, se importaron las siguientes clases:* "
     ]
    },
    {
     "cell_type": "code",
     "collapsed": false,
     "input": [
      "%pylab inline\n",
      "import numpy as np\n",
      "import matplotlib.pyplot as plt\n",
      "import sympy as sy\n",
      "from __future__ import division\n",
      "from abc import ABCMeta, abstractmethod"
     ],
     "language": "python",
     "metadata": {},
     "outputs": [
      {
       "output_type": "stream",
       "stream": "stdout",
       "text": [
        "Populating the interactive namespace from numpy and matplotlib\n"
       ]
      }
     ],
     "prompt_number": 10
    },
    {
     "cell_type": "heading",
     "level": 2,
     "metadata": {},
     "source": [
      "Preguntas a responder"
     ]
    },
    {
     "cell_type": "heading",
     "level": 3,
     "metadata": {},
     "source": [
      "Secci\u00f3n I:"
     ]
    },
    {
     "cell_type": "heading",
     "level": 3,
     "metadata": {},
     "source": [
      "Inciso a):"
     ]
    },
    {
     "cell_type": "markdown",
     "metadata": {},
     "source": [
      "- Usando **Simpy** resuelva las ecuaciones de manera expl\u00edcita.\n"
     ]
    },
    {
     "cell_type": "markdown",
     "metadata": {},
     "source": [
      "**Respuesta:**"
     ]
    },
    {
     "cell_type": "markdown",
     "metadata": {},
     "source": [
      "Este sistema es lineal y puede expresarse con la siguiente **ecuaci\u00f3n matricial**:"
     ]
    },
    {
     "cell_type": "code",
     "collapsed": false,
     "input": [
      "\"\"\"ecuaci\u00f3n matricia\u00f1\"\"\""
     ],
     "language": "python",
     "metadata": {},
     "outputs": [
      {
       "metadata": {},
       "output_type": "pyout",
       "prompt_number": 7,
       "text": [
        "'ecuaci\\xc3\\xb3n matricia\\xc3\\xb1'"
       ]
      }
     ],
     "prompt_number": 7
    },
    {
     "cell_type": "markdown",
     "metadata": {},
     "source": [
      "Esta ecuaci\u00f3n se puede resolver a trav\u00e9s del **m\u00e9todo lineal** de **vectores y valores propios**. **Simpy** cuenta con una funci\u00f3n para matrices no tan complicadas como la de este problema. "
     ]
    },
    {
     "cell_type": "code",
     "collapsed": false,
     "input": [],
     "language": "python",
     "metadata": {},
     "outputs": []
    },
    {
     "cell_type": "heading",
     "level": 3,
     "metadata": {},
     "source": [
      "Inciso b)"
     ]
    },
    {
     "cell_type": "markdown",
     "metadata": {},
     "source": [
      "- Deduzca e interprete la **Ley de cuadrados de Lanchester**. \n",
      "$$\n",
      "x^2 - \\frac{b}{a}y^2 = K,\n",
      "$$\n",
      "para varios valores de $K$. "
     ]
    },
    {
     "cell_type": "code",
     "collapsed": false,
     "input": [],
     "language": "python",
     "metadata": {},
     "outputs": []
    },
    {
     "cell_type": "markdown",
     "metadata": {},
     "source": [
      "\u00bfQu\u00e9 sucede cuando $K=0$?"
     ]
    },
    {
     "cell_type": "code",
     "collapsed": false,
     "input": [],
     "language": "python",
     "metadata": {},
     "outputs": []
    },
    {
     "cell_type": "heading",
     "level": 2,
     "metadata": {},
     "source": [
      "Secci\u00f3n II:"
     ]
    },
    {
     "cell_type": "heading",
     "level": 3,
     "metadata": {},
     "source": [
      "Inciso a)"
     ]
    },
    {
     "cell_type": "markdown",
     "metadata": {},
     "source": [
      "- Modele combate entre guerrillas **(_GUERCOM_)**\n"
     ]
    },
    {
     "cell_type": "markdown",
     "metadata": {},
     "source": [
      "Para ello se considera los siguientes **supuestos**: \n",
      "- El territorio es grande y hay muchos lugares d\u00f3nde esconderse. \n",
      "- Las fuerzas **azules** deben de encontrar a las fuerzas **rojas** primero antes de inflingir da\u00f1os.\n",
      "- Entre m\u00e1s **rojos** hay, es m\u00e1s f\u00e1cil encontrarlos. \n"
     ]
    },
    {
     "cell_type": "markdown",
     "metadata": {},
     "source": [
      "Para ello se plantea el siguiente sistema\n",
      "\n",
      "$$\n",
      "\\frac{dx}{dt} = -axy\n",
      "$$\n",
      "\n",
      "$$\n",
      "\\frac{dy}{dt} = -bxy\n",
      "$$\n"
     ]
    },
    {
     "cell_type": "markdown",
     "metadata": {},
     "source": [
      "Explique estas ecuaciones e indique los posibles casos. \u00bfQu\u00e9 pasa si $x_0 = 3y_0$?\u00bfQu\u00e9 tan efectivo deben de ser los **azules** para lograr un empate?"
     ]
    },
    {
     "cell_type": "heading",
     "level": 3,
     "metadata": {},
     "source": [
      "Detour:"
     ]
    },
    {
     "cell_type": "markdown",
     "metadata": {},
     "source": [
      "Dado que este modelo, junto con los que siguen en esta secci\u00f3n son no lineales, el m\u00e9todo utilizado en la secci\u00f3n anterior ya no es v\u00e1lido. Por ello se propuso la creaci\u00f3n de una clase basada en la soluci\u00f3n de sistemas de ecuaciones diferenciales visto en clase. Esta clase se utilizar\u00e1 en los dem\u00e1s incisos de esta secci\u00f3n dado que los sistemas son similares y s\u00f3lo hay cambios las ecuaciones de los sistemas."
     ]
    },
    {
     "cell_type": "code",
     "collapsed": false,
     "input": [
      "\"\"\"Definimos la clase guerra como una clase abstracta, ya que tan s\u00f3lo servir\u00e1 para que los diferentes tipos de guerra compartan \n",
      "ciertas caracter\u00edsticas\"\"\"\n",
      "class guerra:\n",
      "    __metaclass__ = ABCMeta\n",
      "    def __init__(self,a,b):\n",
      "        pass\n",
      "   \n",
      "    def x(self):\n",
      "        return self.trajectory[:,0]   #Devuelve la trayectoria del ej\u00e9rcito rojo\n",
      "    \n",
      "    def y(self):\n",
      "        return self.trajectory[:,1]    #Devuelve la trayectoria del ej\u00e9rcito azul\n",
      "   \n",
      "    \n",
      "    def plot(self):\n",
      "        fig, ax = plt.subplots(2,1, figsize=(10,8), sharex = True)\n",
      "\n",
      "        ax[0].plot(self.tau, self.x(), label=\"Tropas Azules\", color=\"blue\")\n",
      "        ax[1].plot(self.tau, self.y(), label=\"Tropas Rojas\", color=\"green\")\n",
      "        \n",
      "        \"\"\"Los subplots ser\u00e1 uno para la trayectoria de cada ej\u00e9rcito\"\"\"\n",
      "\n",
      "        ax[0].set_ylabel(\"X\")\n",
      "        ax[0].set_xlabel(\"Tiempo\")\n",
      "\n",
      "        ax[1].set_ylabel(\"Y\")\n",
      "        ax[1].set_xlabel(\"Tiempo\")\n",
      "\n",
      "    \n",
      "    def initial_conditions(self, x_i, y_i):\n",
      "        \"\"\"Se definen las condiciones iniciales que corresponden a la cantidad inicial de soldadosb.\"\"\"\n",
      "        self.x_i = x_i\n",
      "        self.y_i = y_i\n",
      "        \n",
      " \n",
      "        \n",
      "    def integrate(self, num_steps, t_i, t_f, method):\n",
      "        \"\"\"Debemos de hacer ahora una matriz con dos columnas, ya que son dos variables.\"\"\"\n",
      "        self.tau, self.dt = np.linspace(t_i, t_f, num=num_steps, retstep=True)\n",
      "        self.trajectory = np.zeros([num_steps, 2])\n",
      "        self.trajectory[0,0] = self.x_i\n",
      "        self.trajectory[0,1] = self.y_i\n",
      "                \n",
      "        for j in range(N-1):\n",
      "            self.trajectory[j+1] = method(self.trajectory[j], self.tau[j], self.dt, self.dynamics)  \n"
     ],
     "language": "python",
     "metadata": {},
     "outputs": [],
     "prompt_number": 11
    },
    {
     "cell_type": "markdown",
     "metadata": {},
     "source": [
      "Como vimos en clase, existen diversos m\u00e9todos para resolver sistemas de ecuaciones diferenciales. En este ejercicio se utilizar\u00e1 el m\u00e9todo de Runge Tutha dado que result\u00f3 ser efectivo. Este m\u00e9todo consiste en....... y una manera de comprobar que est\u00e1 siendo preciso es a trav\u00e9s de ....."
     ]
    },
    {
     "cell_type": "code",
     "collapsed": false,
     "input": [
      "def RK2(y, t, dt, derivadas):\n",
      "    k0 = dt*derivadas(y, t)\n",
      "    k1 = dt*derivadas(y + k0, t + dt)\n",
      "    y_next = y + 0.5*(k0 + k1)\n",
      "    \n",
      "    return y_next"
     ],
     "language": "python",
     "metadata": {},
     "outputs": [],
     "prompt_number": 12
    },
    {
     "cell_type": "heading",
     "level": 3,
     "metadata": {},
     "source": [
      "Respuesta del inciso a:"
     ]
    },
    {
     "cell_type": "markdown",
     "metadata": {},
     "source": [
      "Al volver al problema del modelo de guerrillas se crea una clase particular que modele la din\u00e1mica de este caso y herede llos m\u00e9todos de la clase general"
     ]
    },
    {
     "cell_type": "code",
     "collapsed": false,
     "input": [
      "\"\"\"Cada tipo de guerra ahora tan s\u00f3lo hereder\u00e1 los m\u00e9todos de la clase guerra\"\"\"\n",
      "class guerCom (guerra):\n",
      "    def __init__(self,a,b):\n",
      "        guerra.__init__(self,a,b)\n",
      "        self.a=a\n",
      "        self.b=b\n",
      "      \n",
      "    def dynamics(self, state, t):\n",
      "        \"\"\"La din\u00e1mica es dada por el problema.\"\"\"\n",
      "        g0 = -self.a*state[0]*state[1]\n",
      "        g1 = -self.b*state[0]*state[1]\n",
      "        \n",
      "        \n",
      "        return np.array([g0,g1])\n",
      "        \n"
     ],
     "language": "python",
     "metadata": {},
     "outputs": [],
     "prompt_number": 13
    },
    {
     "cell_type": "markdown",
     "metadata": {},
     "source": [
      "**Calibraci\u00f3n de par\u00e1metros:**"
     ]
    },
    {
     "cell_type": "markdown",
     "metadata": {},
     "source": [
      "Como primera opci\u00f3n se consider\u00f3 un tiempo de 10 unidades, y se model\u00f3 (de acuerdo a lo que se pregunta) que los rojos superan a los azules en un margen de 3 a uno."
     ]
    },
    {
     "cell_type": "code",
     "collapsed": false,
     "input": [],
     "language": "python",
     "metadata": {},
     "outputs": []
    },
    {
     "cell_type": "code",
     "collapsed": false,
     "input": [
      "efectividad_rojos=.00001\n",
      "efectividad_azules=.00002\n",
      "guerraprueba=guerCom(efectividad_rojos,efectividad_azules)\n",
      "soldados=100000\n",
      "guerraprueba.initial_conditions(x_i=3*soldados, y_i=soldados)\n",
      "N = 100000\n",
      "tiempo_inicial = 0.0\n",
      "tiempo_final = 1\n",
      "guerraprueba.integrate(N, tiempo_inicial, tiempo_final, RK2)\n",
      "guerraprueba.plot()"
     ],
     "language": "python",
     "metadata": {},
     "outputs": [
      {
       "metadata": {},
       "output_type": "display_data",
       "png": "[encoded data removed]",
       "text": [
        "<matplotlib.figure.Figure at 0x7fe343c05190>"
       ]
      }
     ],
     "prompt_number": 21
    },
    {
     "cell_type": "markdown",
     "metadata": {},
     "source": [
      "\u00bfQu\u00e9 pasa si $x_0 = 3y_0$?\u00bfQu\u00e9 tan efectivo deben de ser los **azules** para lograr un empate?"
     ]
    },
    {
     "cell_type": "code",
     "collapsed": false,
     "input": [],
     "language": "python",
     "metadata": {},
     "outputs": []
    },
    {
     "cell_type": "heading",
     "level": 2,
     "metadata": {},
     "source": [
      "Inciso b:"
     ]
    },
    {
     "cell_type": "code",
     "collapsed": false,
     "input": [
      "class vietnam (guerra):\n",
      "    def __init__(self,a,b):\n",
      "        guerra.__init__(self,a,b)\n",
      "        self.a=a\n",
      "        self.b=b\n",
      "      \n",
      "    def dynamics(self, state, t):\n",
      "        \"\"\"La din\u00e1mica es dada por el problema.\"\"\"\n",
      "        g0 = -self.a*state[0]*state[1]\n",
      "        g1 = -self.b*state[0]\n",
      "        \n",
      "        \n",
      "        return np.array([g0,g1])"
     ],
     "language": "python",
     "metadata": {},
     "outputs": [],
     "prompt_number": 17
    },
    {
     "cell_type": "markdown",
     "metadata": {},
     "source": [
      "- El modelo _VIETNAM_ es la uni\u00f3n de los \u00faltimos dos modelos: las tropas de **EU** contra el **Vietcong**\n",
      "$$\n",
      "\\frac{dx}{dt} = -axy\n",
      "$$\n",
      "$$\n",
      "\\frac{dy}{dt} = -bx,\n",
      "$$\n",
      "donde $a$ es proporcional a la raz\u00f3n entre el \u00e1rea de un guerrillero $A_g \\sim 2$ sq. ft. y el \u00e1rea ocupada por la guerrilla $A_x$\n",
      "$$\n",
      "a = c_1\\frac{A_g}{A_x},\n",
      "$$\n",
      "un guerrillero cubre aproximadamente $1,000$ sq.ft. y si est\u00e1n dispersados $A_x = (1,000)sq.ft. \\times x_0$.\n",
      "$b$ representa la efectividad de la guerrilla contra una fuerza convencional, y depende de la probabilidad de que un disparo de un guerrillero mate a un soldado. \n",
      "$$\n",
      "b = c_2p_x\n",
      "$$\n",
      "$c_1$ y $c_2$ son las tasas de disparo (depende de la tecnolog\u00eda del armamento) y se suponen aproximadas $c_1 \\sim c_2$. \u00bfCu\u00e1les son las condiciones de empate? \u00bfCu\u00e1ntos soldados convencionales debe de tener el ej\u00e9rcito convencional para derrotar a la guerrilla? En Vietnam, las tropas de EUA nunca fueron mayores a las del Vietcong por m\u00e1s de 6 a 1. \u00bfPudo haber ganado EUA?"
     ]
    },
    {
     "cell_type": "code",
     "collapsed": false,
     "input": [
      "guerraprueba2=vietnam(.01,.02)\n",
      "\n",
      "guerraprueba2.initial_conditions(x_i=10, y_i=30)\n",
      "N = 100000\n",
      "tiempo_inicial = 0.0\n",
      "tiempo_final = 10\n",
      "guerraprueba2.integrate(N, tiempo_inicial, tiempo_final, RK2)\n",
      "guerraprueba2.plot()"
     ],
     "language": "python",
     "metadata": {},
     "outputs": [
      {
       "metadata": {},
       "output_type": "display_data",
       "png": "[encoded data removed]",
       "text": [
        "<matplotlib.figure.Figure at 0x7fc9dcc7dc10>"
       ]
      }
     ],
     "prompt_number": 18
    },
    {
     "cell_type": "heading",
     "level": 2,
     "metadata": {},
     "source": [
      "Inciso c:"
     ]
    },
    {
     "cell_type": "markdown",
     "metadata": {},
     "source": [
      "- Es posible modificar las ecuaciones para modelar combate convencional (_CONCON_):\n",
      "$$\n",
      "\\frac{dx}{dt} = -cx-ay+P(t)\n",
      "$$\n",
      "$$\n",
      "\\frac{dy}{dt} = -bx-dy+Q(t)\n",
      "$$\n",
      "donde ${d,c}$ son la tasa de p\u00e9rdidas operacionales (enfermedades, deserciones, etc.) -proporcional al n\u00famero de las tropas, y ${a,b}$ es la tasa de p\u00e9rdidas en combate. ${P,Q}$ es la tasa de refuerzos. \n",
      "La batalla de Iwo Jima, en la segunda guerra mundial, fu\u00e9 modelada por Engel en 1954, aplicando estas ecuaciones y di\u00f3 una _comprobaci\u00f3n emp\u00edrica_ de las ecuaciones de Lanchester, aunque en este caso, s\u00f3lo el ej\u00e9rcito de EUA tuvo refuerzos:\n",
      "$$\n",
      "\\frac{dx}{dt} = -ay\n",
      "$$\n",
      "$$\n",
      "\\frac{dy}{dt} = -bx+Q(t)\n",
      "$$\n",
      "Resuelva las ecuaciones con $x_0 = 21,500$, $y_0=0$ y \n",
      "$$Q(t) = 54,000 \\mathcal{U}_{[0,1]} + 6,000 \\mathcal{U}_{[2_3]} + 13,000 \\mathcal{U}_{[5,6]},$$\n",
      "donde $\\mathcal{U}$ es la funci\u00f3n escal\u00f3n. "
     ]
    },
    {
     "cell_type": "markdown",
     "metadata": {},
     "source": [
      "- Encuentre los valores de $a$ y $b$ para ajustar los datos emp\u00edricos mostrados en la figura siguiente:\n",
      "    "
     ]
    },
    {
     "cell_type": "markdown",
     "metadata": {},
     "source": [
      "- Si no hubiera habido refuerzos \u00bfCu\u00e1l hubiera sido el resultado de la batalla?\n",
      "\n",
      "- \u00bfPuede sugerir (buscando alguna referencia de tropas cercanas japonesas) c\u00f3mo intervenir para ganar esta batalla?"
     ]
    },
    {
     "cell_type": "heading",
     "level": 3,
     "metadata": {},
     "source": [
      "Inciso d:"
     ]
    },
    {
     "cell_type": "markdown",
     "metadata": {},
     "source": [
      "- **This is Sparta!** Es posible simular la batalla del Term\u00f3pilas: Suponga que s\u00f3lo $C$ unidades de cada lado caben en el estrecho (o paso) de Term\u00f3pilas, entonces las ecuaciones se convierten en \n",
      "$$\n",
      "\\frac{dx}{dt} = -a \\min(y,C)\n",
      "$$\n",
      "$$\n",
      "\\frac{dy}{dt} = -b \\min(x,C)\n",
      "$$\n",
      "Separe en cuatro casos el espacio $x-y$ y dibuje las regiones de manera anal\u00edtica. \u00bfObtiene el mismo resultado num\u00e9rico? Utilice los datos \"hist\u00f3ricos\" \u00bfEl resultado es parecido a la vida real?"
     ]
    },
    {
     "cell_type": "heading",
     "level": 2,
     "metadata": {},
     "source": [
      "Secci\u00f3n III:"
     ]
    },
    {
     "cell_type": "markdown",
     "metadata": {},
     "source": [
      "- **Agentes** Use la clase agente para modelar el \u00faltimo escenario, suponga \u00fanicamente combate cuerpo a cuerpo, asigne una probabilidad de herir, morir y matar para los agentes que est\u00e9n uno enfrente de otro. Agregue un valor de `cohesi\u00f3n` / `miedo`. Si pasa de un l\u00edmite el miedo huye el agente. Agregue un atributo de `moral`. \u00bfLos resultados coinciden con el modelo de Lanchester?"
     ]
    },
    {
     "cell_type": "code",
     "collapsed": false,
     "input": [],
     "language": "python",
     "metadata": {},
     "outputs": []
    }
   ],
   "metadata": {}
  }
 ]
}