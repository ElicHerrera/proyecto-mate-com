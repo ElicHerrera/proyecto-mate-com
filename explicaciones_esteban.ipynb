{
 "metadata": {
  "name": "",
  "signature": "sha256:ca89c9f1341161a064fe4af3be9333d0600a62cf999af505de1f7bfeb2d345c1"
 },
 "nbformat": 3,
 "nbformat_minor": 0,
 "worksheets": [
  {
   "cells": [
    {
     "cell_type": "heading",
     "level": 1,
     "metadata": {},
     "source": [
      "Term\u00f3pilas"
     ]
    },
    {
     "cell_type": "markdown",
     "metadata": {},
     "source": [
      "Cada soldado tiene:\n",
      "- Tipo:\n",
      "        a)Espartano (1)\n",
      "        b)Persa (2)\n",
      "        c)Inmortal (3)\n",
      "- Mundo: Sirve para que los agentes puedan modificar el mundo.\n",
      "- Estado:\n",
      "        a)Vivo\n",
      "        b)H\u00e9rido\n",
      "        c)Muerto\n",
      "- Posicion. Almacenan su posici\u00f3n en la matriz:\n",
      "        a) 1 si es espartano\n",
      "        b) 2 si es persa o inmortal\n",
      "       \n",
      "- Preparaci\u00f3n: Una funci\u00f3n que al azar les asigna una preparaci\u00f3n a cada soldado.\n",
      "     Por default:\n",
      "        a) Para espartanos va de .85 a 1\n",
      "        b) Para persas va de .2 a .4\n",
      "        c) Para inmortales va de .6 a .7\n",
      "        \n",
      "        "
     ]
    },
    {
     "cell_type": "heading",
     "level": 4,
     "metadata": {},
     "source": [
      "Actualizar Moral"
     ]
    },
    {
     "cell_type": "markdown",
     "metadata": {},
     "source": [
      "En cada turno, cada soldado llama al m\u00e9todo de actualizar_moral, ya que \u00e9sta determinar\u00e1 sus acciones siguientes.\n",
      "\n",
      "- Si es espartano su moral siempre ser\u00e1 su preparaci\u00f3n.\n",
      "\n",
      "- Si es persa sera equivalente a su preparaci\u00f3n por la relaci\u00f3n de bajas entre las tropas\n",
      "  \n",
      "- Adem\u00e1s, si su moral ha llegado demasiado baja, se decide al azar si el soldado decide huir. Una vez que empieze a huir, el soldado se dirigir\u00e1 de regreso a su lado sin parar. No hay forma de salir de la hu\u00edda.\n"
     ]
    },
    {
     "cell_type": "heading",
     "level": 4,
     "metadata": {},
     "source": [
      "Actuar"
     ]
    },
    {
     "cell_type": "markdown",
     "metadata": {},
     "source": [
      "El soldado, una vez que tiene su moral, revisa si enfrente de \u00e9l hay un enemigo.\n",
      "- Si hay un enemigo inicia una pelea con \u00e9l.\n",
      "- De no haberlo se mueve en direcci\u00f3n hacia la pelea:\n",
      "        a) Hacia delante si hay una posici\u00f3n vac\u00eda.\n",
      "        b) Hacia el lado m\u00e1s cercano a la batalla si hay una posici\u00f3n vac\u00eda.\n",
      "        c) Siempre de un lugar por turno."
     ]
    },
    {
     "cell_type": "heading",
     "level": 4,
     "metadata": {},
     "source": [
      "Combate"
     ]
    },
    {
     "cell_type": "markdown",
     "metadata": {},
     "source": [
      "\n",
      "Para modelar el combate cuerpo a cuerpo, por simplicidad se considera y supone lo siguiente:\n",
      "- Cada tipo de soldado tiene tres posibles estados:\n",
      "    - Sano\n",
      "    - Herido\n",
      "    - Muerto\n",
      "- Al inicio de la batalla todos los soldados est\u00e1n sanos.\n",
      "    \n",
      "- Existe una distribuci\u00f3n de probabilidad que determina a nivel poblacional la probabilidad de que en cada periodo de combate haya tres posibles resultados:\n",
      "    \n",
      "    \n",
      "    1) El espartano gana: En este caso el espartano mata al persa sin salir herido. Por ello el estado del soldado persa pasa a muerto sin importar si estaba herido o sano. \n",
      "    2) El espartano empata: Ambos soldados se infligen da\u00f1o, por lo que el estado de cada uno pasa de sano a herido si estaban sanos o de sanos a muertos si estaban heridos.\n",
      "    3) El espartano pierde: En este caso el persa hiere al espartano, por lo que el estado del persa no cambia y el del espartano pasa de sano a herido o de herido a muerto.\n",
      "\n",
      "- La probabilidad del caso 1 queda dada por **p** moral del espartano, la del caso 2 por **q** moral del persa y la del caso 3 por **z**\n",
      "\n",
      "- Estas probabilidades dependen de los siguientes par\u00e1metros ex\u00f3genos y end\u00f3genos:\n",
      "    - Preparaci\u00f3n de cada soldado que interact\u00faa.\n",
      "    - Relaci\u00f3n de bajas (Cantidad de tropas espartanas muertas entre la cantidad de tropas persas muertas).\n",
      "    - El estado en el que se encuentra cada uno de los soldados que interact\u00faan.\n",
      "    - La moral de cada soldado queda determinada de manera end\u00f3gena por los par\u00e1metros anteriores.\n",
      "  \n"
     ]
    },
    {
     "cell_type": "heading",
     "level": 2,
     "metadata": {},
     "source": [
      "Mundo"
     ]
    },
    {
     "cell_type": "markdown",
     "metadata": {},
     "source": [
      "El mundo por default es una matriz de 250x250, e inmediatamente desp\u00faes de su creaci\u00f3n, dibuja el paso de Term\u00f3pilas.\n",
      "- El paso de Term\u00f3pilas tendr\u00e1 una longitud de .02 del total de columnas. (Fue pensado para 250x250 y que hubieran 5 peleadores por fila.)\n",
      "- La matriz contiene:\n",
      "        a) 0 si la posici\u00f3n est\u00e1 vac\u00eda.\n",
      "        b) 1 si hay un espartano.\n",
      "        c) 2 si hay un persa o inmortal.\n",
      "        d) 3 si hay monta\u00f1a.\n",
      "    "
     ]
    },
    {
     "cell_type": "heading",
     "level": 4,
     "metadata": {},
     "source": [
      "Agregar ej\u00e9rcitos"
     ]
    },
    {
     "cell_type": "markdown",
     "metadata": {},
     "source": [
      "Por la manera de plantear el problema, necesitamos un m\u00e9todo especial para agregar a los soldados.\n",
      "- De ser espartanos, verifica que haya lugar en el paso de Term\u00f3pilas para todos, de no haberla regresa un error.\n",
      "- De ser persas, los coloca de atr\u00e1s para adelante en el otro extremo del mapa."
     ]
    },
    {
     "cell_type": "code",
     "collapsed": false,
     "input": [],
     "language": "python",
     "metadata": {},
     "outputs": []
    }
   ],
   "metadata": {}
  }
 ]
}