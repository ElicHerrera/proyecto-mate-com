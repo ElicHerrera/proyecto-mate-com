{
 "metadata": {
  "name": "",
  "signature": "sha256:3d3661804ca61c2645148ed9fc9e662afad3ecc3a23241b545d874f5145360b5"
 },
 "nbformat": 3,
 "nbformat_minor": 0,
 "worksheets": [
  {
   "cells": [
    {
     "cell_type": "markdown",
     "metadata": {},
     "source": [
      "- Se va a crear una clase de soldado. \n",
      " - Parametros:\n",
      "     - Tipo (Espartano, Persa, Inmortal).\n",
      "     - Preparaci\u00f3n (Espartano (.8,1), Persa (.1,.6), Inmortal (.5,1)) \n",
      "     - Estado (Vivo=1, Herido=2, Muerto=3)\n",
      "     - Espacio (\n",
      "     - Moral (0,1)\n",
      "     - Movimiento (A partir de la norma del soldado y el espacio en blanco inmediato).\n",
      "     - Combate (Cuero a Cuerpo)\n",
      "- Se va a crear una clase del mapa.\n",
      " - Mapa de 250x250\n",
      "\n",
      "- M\u00e9todo de combate\n",
      " - Probabilidad de vivir, empatar, morir.\n",
      "\n",
      "**FALTA DEFINIR REGLAS DE JUEGO**"
     ]
    },
    {
     "cell_type": "code",
     "collapsed": false,
     "input": [],
     "language": "python",
     "metadata": {},
     "outputs": []
    }
   ],
   "metadata": {}
  }
 ]
}