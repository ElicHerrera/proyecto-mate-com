{
 "metadata": {
  "name": "",
  "signature": "sha256:53f9a96c551aa34ec42e755625659d0e6206e9969054191f2403eb03df30aaa4"
 },
 "nbformat": 3,
 "nbformat_minor": 0,
 "worksheets": [
  {
   "cells": [
    {
     "cell_type": "heading",
     "level": 1,
     "metadata": {},
     "source": [
      "\u00a1Guerra!"
     ]
    },
    {
     "cell_type": "heading",
     "level": 3,
     "metadata": {},
     "source": [
      "Temas principales"
     ]
    },
    {
     "cell_type": "markdown",
     "metadata": {},
     "source": [
      "- Sistemas de ecuaciones diferenciales\n",
      "- Agentes"
     ]
    },
    {
     "cell_type": "heading",
     "level": 2,
     "metadata": {},
     "source": [
      "Introducci\u00f3n"
     ]
    },
    {
     "cell_type": "markdown",
     "metadata": {},
     "source": [
      "Queremos modelar una batalla, y queremos hacerlo de manera muy simple. El modelo que vamos a considerar fu\u00e9 propuesto por [**Frederick Lanchester**](http://en.wikipedia.org/wiki/Lanchester%27s_laws) en 1916. "
     ]
    },
    {
     "cell_type": "markdown",
     "metadata": {},
     "source": [
      "Las suposiciones son las siguientes:"
     ]
    },
    {
     "cell_type": "markdown",
     "metadata": {},
     "source": [
      "- Hay dos lados en la batalla: **azules** y **rojos**.\n",
      "- Los principales factores que deciden el resultado de la batalla son el n\u00famero de tropas y el entrenamiento/equipo.\n",
      "- Sea $x$ el n\u00famero de tropas de los **rojos** y $y$ el n\u00famero de tropas de los **azules**.\n",
      "- Sea $a$ la potencia de fuego de los **rojos** y sea $b$ la potencia de fuego de los **azules**.\n",
      "    - La _potencia de fuego_ est\u00e1 basada en el entrenamiento, equipo, etc."
     ]
    },
    {
     "cell_type": "markdown",
     "metadata": {},
     "source": [
      "Con estas suposiciones tenemos el modelo de Lanchester:\n",
      "\n",
      "$$\n",
      "\\frac{dx}{dt} = -ay\n",
      "$$\n",
      "\n",
      "\n",
      "$$\n",
      "\\frac{dy}{dt} = -bx\n",
      "$$\n",
      "\n",
      "con condiciones iniciales $x(0) = x_0$ y $y(0) = y_0$."
     ]
    },
    {
     "cell_type": "heading",
     "level": 2,
     "metadata": {},
     "source": [
      "Preguntas a responder"
     ]
    },
    {
     "cell_type": "markdown",
     "metadata": {},
     "source": [
      "- Usando **Simpy** resuelva las ecuaciones de manera expl\u00edcita.\n",
      "- Deduzca e interprete la **Ley de cuadrados de Lanchester**. \n",
      "$$\n",
      "x^2 - \\frac{b}{a}y^2 = K,\n",
      "$$\n",
      "para varios valores de $K$. \u00bfQu\u00e9 sucede cuando $K=0$?"
     ]
    },
    {
     "cell_type": "markdown",
     "metadata": {},
     "source": [
      "- Modele combate entre guerrillas (_GUERCOM_): El territorio es grande y hay muchos lugares d\u00f3nde esconderse. Las fuerzas **azules** deben de encontrar a las fuerzas **rojas** primero antes de inflingir da\u00f1os, entre m\u00e1s **rojos** m\u00e1s f\u00e1cil encontrarlos. \n",
      "$$\n",
      "\\frac{dx}{dt} = -axy\n",
      "$$\n",
      "$$\n",
      "\\frac{dy}{dt} = -bxy\n",
      "$$\n",
      "Explique estas ecuaciones e indique los posibles casos. \u00bfQu\u00e9 pasa si $x_0 = 3y_0$?\u00bfQu\u00e9 tan efectivo deben de ser los **azules** para lograr un empate?"
     ]
    },
    {
     "cell_type": "markdown",
     "metadata": {},
     "source": [
      "- El modelo _VIETNAM_ es la uni\u00f3n de los \u00faltimos dos modelos: las tropas de **EU** contra el **Vietcong**\n",
      "$$\n",
      "\\frac{dx}{dt} = -axy\n",
      "$$\n",
      "$$\n",
      "\\frac{dy}{dt} = -bx,\n",
      "$$\n",
      "donde $a$ es proporcional a la raz\u00f3n entre el \u00e1rea de un guerrillero $A_g \\sim 2$ sq. ft. y el \u00e1rea ocupada por la guerrilla $A_x$\n",
      "$$\n",
      "a = c_1\\frac{A_g}{A_x},\n",
      "$$\n",
      "un guerrillero cubre aproximadamente $1,000$ sq.ft. y si est\u00e1n dispersados $A_x = (1,000)sq.ft. \\times x_0$.\n",
      "$b$ representa la efectividad de la guerrilla contra una fuerza convencional, y depende de la probabilidad de que un disparo de un guerrillero mate a un soldado. \n",
      "$$\n",
      "b = c_2p_x\n",
      "$$\n",
      "$c_1$ y $c_2$ son las tasas de disparo (depende de la tecnolog\u00eda del armamento) y se suponen aproximadas $c_1 \\sim c_2$. \u00bfCu\u00e1les son las condiciones de empate? \u00bfCu\u00e1ntos soldados convencionales debe de tener el ej\u00e9rcito convencional para derrotar a la guerrilla? En Vietnam, las tropas de EUA nunca fueron mayores a las del Vietcong por m\u00e1s de 6 a 1. \u00bfPudo haber ganado EUA?\n"
     ]
    },
    {
     "cell_type": "markdown",
     "metadata": {},
     "source": [
      "- Es posible modificar las ecuaciones para modelar combate convencional (_CONCON_):\n",
      "$$\n",
      "\\frac{dx}{dt} = -cx-ay+P(t)\n",
      "$$\n",
      "$$\n",
      "\\frac{dy}{dt} = -bx-dy+Q(t)\n",
      "$$\n",
      "donde ${d,c}$ son la tasa de p\u00e9rdidas operacionales (enfermedades, deserciones, etc.) -proporcional al n\u00famero de las tropas, y ${a,b}$ es la tasa de p\u00e9rdidas en combate. ${P,Q}$ es la tasa de refuerzos. \n",
      "La batalla de Iwo Jima, en la segunda guerra mundial, fu\u00e9 modelada por Engel en 1954, aplicando estas ecuaciones y di\u00f3 una _comprobaci\u00f3n emp\u00edrica_ de las ecuaciones de Lanchester, aunque en este caso, s\u00f3lo el ej\u00e9rcito de EUA tuvo refuerzos:\n",
      "$$\n",
      "\\frac{dx}{dt} = -ay\n",
      "$$\n",
      "$$\n",
      "\\frac{dy}{dt} = -bx+Q(t)\n",
      "$$\n",
      "Resuelva las ecuaciones con $x_0 = 21,500$, $y_0=0$ y \n",
      "$$Q(t) = 54,000 \\mathcal{U}_{[0,1]} + 6,000 \\mathcal{U}_{[2_3]} + 13,000 \\mathcal{U}_{[5,6]},$$\n",
      "donde $\\mathcal{U}$ es la funci\u00f3n escal\u00f3n. "
     ]
    },
    {
     "cell_type": "markdown",
     "metadata": {},
     "source": [
      "- Encuentre los valores de $a$ y $b$ para ajustar los datos emp\u00edricos mostrados en la figura siguiente:"
     ]
    },
    {
     "cell_type": "markdown",
     "metadata": {},
     "source": [
      "<img src=\"imagenes/iwo_jima.png\"/>"
     ]
    },
    {
     "cell_type": "markdown",
     "metadata": {},
     "source": [
      "- Si no hubiera habido refuerzos \u00bfCu\u00e1l hubiera sido el resultado de la batalla?\n",
      "- \u00bfPuede sugerir (buscando alguna referencia de tropas cercanas japonesas) c\u00f3mo intervenir para ganar esta batalla?"
     ]
    },
    {
     "cell_type": "markdown",
     "metadata": {},
     "source": [
      "- **This is Sparta!** Es posible simular la batalla del Term\u00f3pilas: Suponga que s\u00f3lo $C$ unidades de cada lado caben en el estrecho (o paso) de Term\u00f3pilas, entonces las ecuaciones se convierten en \n",
      "$$\n",
      "\\frac{dx}{dt} = -a \\min(y,C)\n",
      "$$\n",
      "$$\n",
      "\\frac{dy}{dt} = -b \\min(x,C)\n",
      "$$\n",
      "Separe en cuatro casos el espacio $x-y$ y dibuje las regiones de manera anal\u00edtica. \u00bfObtiene el mismo resultado num\u00e9rico? Utilice los datos \"hist\u00f3ricos\" \u00bfEl resultado es parecido a la vida real?"
     ]
    },
    {
     "cell_type": "markdown",
     "metadata": {},
     "source": [
      "- **Agentes** Use la clase agente para modelar el \u00faltimo escenario, suponga \u00fanicamente combate cuerpo a cuerpo, asigne una probabilidad de herir, morir y matar para los agentes que est\u00e9n uno enfrente de otro. Agregue un valor de `cohesi\u00f3n` / `miedo`. Si pasa de un l\u00edmite el miedo huye el agente. Agregue un atributo de `moral`. \u00bfLos resultados coinciden con el modelo de Lanchester?"
     ]
    },
    {
     "cell_type": "heading",
     "level": 2,
     "metadata": {},
     "source": [
      "Preguntas extra"
     ]
    },
    {
     "cell_type": "markdown",
     "metadata": {},
     "source": [
      "- Usando como base a **Chen, 2012** (Incluido en el repo) simule la batalla de Trafalgar con Lanchester.\n",
      "- \u00bfC\u00f3mo modelar\u00eda fatiga o abastecimiento en Lanchester?\n",
      "- \u00bfC\u00f3mo incluir\u00eda a un tercer combatiente? \u00bfSe ve afectadas las ecuaciones si los **rojos** tienen fuerzas regulares e irregulares?"
     ]
    },
    {
     "cell_type": "heading",
     "level": 2,
     "metadata": {},
     "source": [
      "Bibliograf\u00eda"
     ]
    },
    {
     "cell_type": "markdown",
     "metadata": {},
     "source": [
      "- **Wikipedia** [_Lanchester laws_](http://en.wikipedia.org/wiki/Lanchester%27s_laws)\n",
      "- **J.H. Engel** _A verification of Lanchester's Law_ `Journal of the Operations Research Society of America, Vol. 2, No. 2. (May, 1954), pp. 163-171`\n",
      "- **Alex Chen** _This Means War! Modeling Combat with Applications to Real Time Strategy Games_ (2012)\n",
      "- **Marcin Waniek** _An Agent-Based Simulation of the Battle of Kokenhausen_"
     ]
    }
   ],
   "metadata": {}
  }
 ]
}