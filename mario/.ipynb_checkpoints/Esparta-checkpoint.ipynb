{
 "metadata": {
  "name": "",
  "signature": "sha256:d0e8fdec9ba013725dda0049a02b3564301eb8cb0a49694b9f481c1dac498383"
 },
 "nbformat": 3,
 "nbformat_minor": 0,
 "worksheets": [
  {
   "cells": [
    {
     "cell_type": "heading",
     "level": 3,
     "metadata": {},
     "source": [
      "This is Sparta"
     ]
    },
    {
     "cell_type": "markdown",
     "metadata": {},
     "source": [
      "Para modelar el combate cuerpo a cuerpo, por simplicidad se considera y supone lo siguiente:\n",
      "- Cada tipo de soldado tiene tres posibles estados:\n",
      "    - Sano\n",
      "    - Herido\n",
      "    - Muerto\n",
      "- Al inicio de la batalla todos los soldados est\u00e1n sanos.\n",
      "    \n",
      "- Existe una distribuci\u00f3n de probabilidad que determina a nivel poblacional la probabilidad de que en cada periodo de combate haya tres posibles resultados:\n",
      "    \n",
      "    \n",
      "    1) El espartano gana: En este caso el espartano mata al persa sin salir herido. Por ello el estado del soldado persa pasa a muerto sin importar si estaba herido o sano. \n",
      "    2) El espartano empata: Ambos soldados se infligen da\u00f1o, por lo que el estado de cada uno pasa de sano a herido si estaban sanos o de sanos a muertos si estaban heridos.\n",
      "    3) El espartano pierde: En este caso el persa hiere al espartano, por lo que el estado del persa no cambia y el del espartano pasa de sano a herido o de herido a muerto.\n",
      "\n",
      "- La probabilidad del caso 1 queda dada por **p**, la del caso 2 por **q** y la del caso 3 por **z**\n",
      "\n",
      "- Estas probabilidades dependen de los siguientes par\u00e1metros ex\u00f3genos y end\u00f3genos:\n",
      "    - Preparaci\u00f3n de cada soldado que interact\u00faa.\n",
      "    - Relaci\u00f3n de bajas (Cantidad de tropas espartanas muertas entre la cantidad de tropas persas muertas).\n",
      "    - El estado en el que se encuentra cada uno de los soldados que interact\u00faan.\n",
      "    - La moral de cada soldado queda determinada de manera end\u00f3gena por los par\u00e1metros anteriores.\n",
      "\n",
      "    "
     ]
    },
    {
     "cell_type": "code",
     "collapsed": false,
     "input": [
      "import random\n"
     ],
     "language": "python",
     "metadata": {},
     "outputs": []
    },
    {
     "cell_type": "markdown",
     "metadata": {},
     "source": [
      "**Variables ex\u00f3genas:**"
     ]
    },
    {
     "cell_type": "code",
     "collapsed": false,
     "input": [
      "P_e=.999  #variable entre (0,1)\n",
      "P_p=0.1   #variable entre (0,1)\n",
      "N_e=  np.ones(300)*2    #vector de soldados espartanos vivos\n",
      "N_p=np.ones(3,20000)*2 # oleadas de  soldados persas \n"
     ],
     "language": "python",
     "metadata": {},
     "outputs": []
    },
    {
     "cell_type": "code",
     "collapsed": false,
     "input": [
      "def combate(y, t, dt, derivadas):  \n",
      "    \"\"\"Simula el enfrentamiento de cada soldado espartano contra los persas.\"\"\"\n",
      "Bajas_e=0\n",
      "Bajas_p=0\n",
      "\n",
      "        for i in N_e:\n",
      "            Persa= # soldado enfrente del espartano\n",
      "            while N_e(i)>0 and persa>0:\n",
      "                 \n",
      "                    relacion_bajas=Bajas_e/Bajas_p\n",
      "                    relacion_combate =N_(i)/Persa\n",
      "                    Moral_e = (1- (relacion_bajas)*P_e*(relacion_combate)\n",
      "                    Moral_p = (relacion_bajas)*P_p/(relacion_combate)\n",
      "                    p=Moral_e\n",
      "                    q=Moral_p\n",
      "                    z=1-p-z\n",
      "                    x= random.random()\n",
      "                    if x<p:\n",
      "                        --Persa\n",
      "                    if x<p+q:\n",
      "                        --N_e(i)\n",
      "                    else \n",
      "                        --E_e\n",
      "                        --Persa\n",
      "                \n",
      "            \n",
      "         return y_next"
     ],
     "language": "python",
     "metadata": {},
     "outputs": [
      {
       "ename": "NameError",
       "evalue": "name 'N_e' is not defined",
       "output_type": "pyerr",
       "traceback": [
        "\u001b[1;31m---------------------------------------------------------------------------\u001b[0m\n\u001b[1;31mNameError\u001b[0m                                 Traceback (most recent call last)",
        "\u001b[1;32m<ipython-input-1-5aece50c0b6e>\u001b[0m in \u001b[0;36m<module>\u001b[1;34m()\u001b[0m\n\u001b[1;32m----> 1\u001b[1;33m \u001b[0mMoral_e\u001b[0m \u001b[1;33m=\u001b[0m \u001b[1;33m(\u001b[0m\u001b[1;36m1\u001b[0m\u001b[1;33m-\u001b[0m \u001b[1;33m(\u001b[0m\u001b[0mN_e\u001b[0m\u001b[1;33m-\u001b[0m\u001b[0mn_e\u001b[0m\u001b[1;33m)\u001b[0m\u001b[1;33m/\u001b[0m\u001b[1;33m(\u001b[0m\u001b[0mN_P\u001b[0m\u001b[1;33m-\u001b[0m\u001b[0mn_e\u001b[0m\u001b[1;33m)\u001b[0m\u001b[1;33m)\u001b[0m\u001b[1;33m*\u001b[0m\u001b[0mP_e\u001b[0m\u001b[1;33m*\u001b[0m\u001b[1;33m(\u001b[0m\u001b[0mE_e\u001b[0m\u001b[1;33m/\u001b[0m\u001b[0mE_p\u001b[0m\u001b[1;33m)\u001b[0m\u001b[1;33m\u001b[0m\u001b[0m\n\u001b[0m\u001b[0;32m      2\u001b[0m \u001b[0mMoral_p\u001b[0m \u001b[1;33m=\u001b[0m \u001b[1;33m(\u001b[0m\u001b[1;33m(\u001b[0m\u001b[0mN_e\u001b[0m\u001b[1;33m-\u001b[0m\u001b[0mn_e\u001b[0m\u001b[1;33m)\u001b[0m\u001b[1;33m/\u001b[0m\u001b[1;33m(\u001b[0m\u001b[0mN_P\u001b[0m\u001b[1;33m-\u001b[0m\u001b[0mn_e\u001b[0m\u001b[1;33m)\u001b[0m\u001b[1;33m)\u001b[0m\u001b[1;33m*\u001b[0m\u001b[0mP_p\u001b[0m\u001b[1;33m*\u001b[0m\u001b[1;33m(\u001b[0m\u001b[0mE_e\u001b[0m\u001b[1;33m/\u001b[0m\u001b[0mE_e\u001b[0m\u001b[1;33m)\u001b[0m\u001b[1;33m\u001b[0m\u001b[0m\n",
        "\u001b[1;31mNameError\u001b[0m: name 'N_e' is not defined"
       ]
      }
     ],
     "prompt_number": 1
    },
    {
     "cell_type": "code",
     "collapsed": false,
     "input": [],
     "language": "python",
     "metadata": {},
     "outputs": []
    },
    {
     "cell_type": "code",
     "collapsed": false,
     "input": [],
     "language": "python",
     "metadata": {},
     "outputs": []
    },
    {
     "cell_type": "code",
     "collapsed": false,
     "input": [],
     "language": "python",
     "metadata": {},
     "outputs": []
    }
   ],
   "metadata": {}
  }
 ]
}